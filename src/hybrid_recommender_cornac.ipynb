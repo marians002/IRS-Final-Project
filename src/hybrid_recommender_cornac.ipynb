{
 "cells": [
  {
   "cell_type": "markdown",
   "metadata": {},
   "source": [
    "Importamos las librerías necesarias"
   ]
  },
  {
   "cell_type": "code",
   "metadata": {
    "ExecuteTime": {
     "end_time": "2024-09-12T19:11:28.844988Z",
     "start_time": "2024-09-12T19:11:28.834309Z"
    }
   },
   "source": [
    "import matplotlib.pyplot as plt\n",
    "import cornac\n",
    "import pandas as pd\n",
    "from cornac.eval_methods import RatioSplit\n",
    "from cornac.metrics import Recall, Precision, MAE, RMSE\n",
    "from cornac.models import ItemKNN, BPR, MF\n",
    "from sklearn.metrics.pairwise import cosine_similarity"
   ],
   "outputs": [],
   "execution_count": 56
  },
  {
   "cell_type": "markdown",
   "metadata": {},
   "source": [
    "Cargar el dataset de MovieLens 100K"
   ]
  },
  {
   "cell_type": "code",
   "metadata": {
    "ExecuteTime": {
     "end_time": "2024-09-12T19:11:30.246186Z",
     "start_time": "2024-09-12T19:11:29.588372Z"
    }
   },
   "source": [
    "file_path = 'datasets/ml-100k/u.data'\n",
    "dataframe = pd.read_csv(file_path, sep='|', header=None, encoding='latin-1')\n",
    "dataset = cornac.datasets.movielens.load_feedback(fmt='UIRT')\n",
    "\n",
    "file_path = 'datasets/ml-100k/u.item'\n",
    "movies = pd.read_csv(file_path, sep='|', header=None, encoding='latin-1')\n",
    "\n",
    "movies.columns = ['movie_id', 'title', 'release_date', 'video_release_date', 'IMDb_URL', 'unknown', 'Action', 'Adventure', 'Animation', 'Children', 'Comedy', 'Crime', 'Documentary', 'Drama', 'Fantasy', 'Film-Noir', 'Horror', 'Musical', 'Mystery', 'Romance', 'Sci-Fi', 'Thriller', 'War', 'Western']\n",
    "\n",
    "genre_columns = ['unknown', 'Action', 'Adventure', 'Animation', 'Children', 'Comedy', 'Crime', 'Documentary', 'Drama', 'Fantasy', 'Film-Noir', 'Horror', 'Musical', 'Mystery', 'Romance', 'Sci-Fi', 'Thriller', 'War', 'Western']\n",
    "\n",
    "movie_genres = movies[genre_columns]\n",
    "movie_similarities = cosine_similarity(movie_genres, movie_genres)\n",
    "print(f\"Dimensions of our genres cosine similarity matrix: {movie_similarities.shape}\")"
   ],
   "outputs": [
    {
     "name": "stdout",
     "output_type": "stream",
     "text": [
      "Dimensions of our genres cosine similarity matrix: (1682, 1682)\n"
     ]
    }
   ],
   "execution_count": 57
  },
  {
   "cell_type": "markdown",
   "metadata": {},
   "source": [
    "Exploración de datos"
   ]
  },
  {
   "cell_type": "code",
   "metadata": {
    "ExecuteTime": {
     "end_time": "2024-09-12T19:11:30.322485Z",
     "start_time": "2024-09-12T19:11:30.263902Z"
    }
   },
   "source": [
    "file_path = 'datasets/ml-100k/u.info'\n",
    "info = pd.read_csv(file_path, sep=' ', header=None, encoding='latin-1')\n",
    "info.columns = ['data', 'info']\n",
    "print(info)"
   ],
   "outputs": [
    {
     "name": "stdout",
     "output_type": "stream",
     "text": [
      "     data     info\n",
      "0     943    users\n",
      "1    1682    items\n",
      "2  100000  ratings\n"
     ]
    }
   ],
   "execution_count": 58
  },
  {
   "cell_type": "code",
   "metadata": {
    "ExecuteTime": {
     "end_time": "2024-09-12T19:11:30.346164Z",
     "start_time": "2024-09-12T19:11:30.329167Z"
    }
   },
   "source": [
    "sparsity = info['data'][2]/(info['data'][0]*info['data'][1])\n",
    "print(f\"Matrix sparsity: {round(sparsity*100,2)}%\")"
   ],
   "outputs": [
    {
     "name": "stdout",
     "output_type": "stream",
     "text": [
      "Matrix sparsity: 6.3%\n"
     ]
    }
   ],
   "execution_count": 59
  },
  {
   "cell_type": "code",
   "metadata": {
    "ExecuteTime": {
     "end_time": "2024-09-12T19:11:33.737577Z",
     "start_time": "2024-09-12T19:11:30.353715Z"
    }
   },
   "source": [
    "# Diccionario con las similitudes entre peliculas ordenadas ascendentemente\n",
    "sim_movies = {}\n",
    "for idx in range(len(movie_similarities)):\n",
    "    sim_scores = list(enumerate(movie_similarities[idx]))\n",
    "    sim_scores = sorted(sim_scores, key=lambda x: x[1])\n",
    "    sim_movies[idx] = sim_scores"
   ],
   "outputs": [],
   "execution_count": 60
  },
  {
   "cell_type": "markdown",
   "metadata": {},
   "source": [
    "Crear modelos propios"
   ]
  },
  {
   "cell_type": "code",
   "metadata": {
    "ExecuteTime": {
     "end_time": "2024-09-12T19:11:33.756996Z",
     "start_time": "2024-09-12T19:11:33.739797Z"
    }
   },
   "source": [
    "class Hybrid(cornac.models.Recommender):\n",
    "    def __init__(self, models, weights, name=\"Hybrid\"):\n",
    "        super().__init__(name=name)\n",
    "        self.models = models\n",
    "        self.weights = weights\n",
    "\n",
    "    def fit(self, train_set, eval_set=None):\n",
    "        super().fit(train_set,eval_set)\n",
    "        for m in self.models:\n",
    "            m.fit(train_set, eval_set)\n",
    "\n",
    "    def score(self, user_idx, item_idx=None):\n",
    "        ponderated_sum = 0\n",
    "        # if each weight is 1/len(weights)then the score is the average  \n",
    "        for idx in range(len(self.models)):\n",
    "            ponderated_sum += self.models[idx].score(user_idx, item_idx)*self.weights[idx]\n",
    "\n",
    "        return ponderated_sum/sum(self.weights)\n",
    "\n",
    "class DHybrid(Hybrid):\n",
    "    def __init__(self, models, weights, name=\"Hybrid\", flag=False):\n",
    "        super().__init__(models, weights, name)\n",
    "        self.flag = flag\n",
    "        \n",
    "    def fit(self, train_set, eval_set=None):\n",
    "        super().fit(train_set, eval_set)\n",
    "        \n",
    "    def score(self, user_idx, item_idx=None):\n",
    "        return super().score(user_idx, item_idx)\n",
    "    \n",
    "    def recommend(self, user_id, k=-1, remove_seen=False, train_set=None, n=3):\n",
    "        recommendations = super().recommend(user_id, k, remove_seen, train_set)\n",
    "        if self.flag:\n",
    "            for idx in range(n):\n",
    "                recommendations[-idx-1] = sim_movies[int(recommendations[idx])][0][0]\n",
    "            # sim_scores = sim_movies[int(recommendations[0])]\n",
    "            # similar_movies = [i[0] for i in sim_scores[:n]]\n",
    "            # return recommendations + similar_movies\n",
    "        return recommendations\n",
    "    \n",
    "    def novelty(self, user_id, k, item_popularity):\n",
    "        recommendations = self.recommend(user_id, k)\n",
    "        return novelty(recommendations, item_popularity)\n",
    "\n",
    "    "
   ],
   "outputs": [],
   "execution_count": 61
  },
  {
   "cell_type": "markdown",
   "metadata": {},
   "source": [
    "Definir el método de evaluación"
   ]
  },
  {
   "cell_type": "code",
   "metadata": {
    "ExecuteTime": {
     "end_time": "2024-09-12T19:11:34.305045Z",
     "start_time": "2024-09-12T19:11:33.762003Z"
    }
   },
   "source": [
    "ratio_split = RatioSplit(data=dataset, test_size=0.2, rating_threshold=4.0, exclude_unknowns=True, verbose=True)"
   ],
   "outputs": [
    {
     "name": "stdout",
     "output_type": "stream",
     "text": [
      "rating_threshold = 4.0\n",
      "exclude_unknowns = True\n",
      "---\n",
      "Training data:\n",
      "Number of users = 943\n",
      "Number of items = 1656\n",
      "Number of ratings = 80000\n",
      "Max rating = 5.0\n",
      "Min rating = 1.0\n",
      "Global mean = 3.5\n",
      "---\n",
      "Test data:\n",
      "Number of users = 943\n",
      "Number of items = 1656\n",
      "Number of ratings = 19973\n",
      "Number of unknown users = 0\n",
      "Number of unknown items = 0\n",
      "---\n",
      "Total users = 943\n",
      "Total items = 1656\n"
     ]
    }
   ],
   "execution_count": 62
  },
  {
   "cell_type": "markdown",
   "metadata": {},
   "source": [
    "Definir los modelos a emplear"
   ]
  },
  {
   "cell_type": "code",
   "metadata": {
    "ExecuteTime": {
     "end_time": "2024-09-12T19:11:34.319454Z",
     "start_time": "2024-09-12T19:11:34.307755Z"
    }
   },
   "source": [
    "\n",
    "mf = MF(k=10, max_iter=25, learning_rate=0.01, lambda_reg=0.02)\n",
    "svd = cornac.models.SVD()\n",
    "knn = ItemKNN(k=20, similarity='cosine', name='ItemKNN')\n",
    "bpr = cornac.models.BPR(k=10, max_iter=25, learning_rate=0.01, lambda_reg=0.02)\n",
    "hybrid = DHybrid([svd, bpr, knn], (3,5,7), flag=True)\n",
    "\n",
    "models = [mf, bpr, svd, knn, hybrid]"
   ],
   "outputs": [],
   "execution_count": 63
  },
  {
   "cell_type": "markdown",
   "metadata": {},
   "source": [
    "Definir las metricas a utilizar"
   ]
  },
  {
   "cell_type": "code",
   "metadata": {
    "ExecuteTime": {
     "end_time": "2024-09-12T19:11:34.331122Z",
     "start_time": "2024-09-12T19:11:34.321936Z"
    }
   },
   "source": "metrics = [MAE(), RMSE(), Recall(10), Precision(10)]",
   "outputs": [],
   "execution_count": 64
  },
  {
   "cell_type": "markdown",
   "metadata": {},
   "source": [
    "Definir el experimento\n"
   ]
  },
  {
   "cell_type": "code",
   "metadata": {
    "ExecuteTime": {
     "end_time": "2024-09-12T19:11:34.358619Z",
     "start_time": "2024-09-12T19:11:34.333157Z"
    }
   },
   "source": [
    "experiment = cornac.Experiment(eval_method=ratio_split, models=models, metrics=metrics)"
   ],
   "outputs": [],
   "execution_count": 65
  },
  {
   "cell_type": "markdown",
   "metadata": {},
   "source": [
    "Ejecutar el experimento"
   ]
  },
  {
   "cell_type": "code",
   "metadata": {
    "ExecuteTime": {
     "end_time": "2024-09-12T19:12:21.172356Z",
     "start_time": "2024-09-12T19:11:34.360939Z"
    }
   },
   "source": [
    "experiment.run()"
   ],
   "outputs": [
    {
     "name": "stdout",
     "output_type": "stream",
     "text": [
      "\n",
      "[MF] Training started!\n",
      "\n",
      "[MF] Evaluation started!\n"
     ]
    },
    {
     "data": {
      "text/plain": [
       "Rating:   0%|          | 0/19973 [00:00<?, ?it/s]"
      ],
      "application/vnd.jupyter.widget-view+json": {
       "version_major": 2,
       "version_minor": 0,
       "model_id": "eab02cfc01bc413c80c663c9c4a4270a"
      }
     },
     "metadata": {},
     "output_type": "display_data"
    },
    {
     "data": {
      "text/plain": [
       "Ranking:   0%|          | 0/942 [00:00<?, ?it/s]"
      ],
      "application/vnd.jupyter.widget-view+json": {
       "version_major": 2,
       "version_minor": 0,
       "model_id": "fea320dcbc414dd380b018dcaff331f4"
      }
     },
     "metadata": {},
     "output_type": "display_data"
    },
    {
     "name": "stdout",
     "output_type": "stream",
     "text": [
      "\n",
      "[BPR] Training started!\n",
      "\n",
      "[BPR] Evaluation started!\n"
     ]
    },
    {
     "data": {
      "text/plain": [
       "Rating:   0%|          | 0/19973 [00:00<?, ?it/s]"
      ],
      "application/vnd.jupyter.widget-view+json": {
       "version_major": 2,
       "version_minor": 0,
       "model_id": "af74706445f24708a47fa2f82d2917ab"
      }
     },
     "metadata": {},
     "output_type": "display_data"
    },
    {
     "data": {
      "text/plain": [
       "Ranking:   0%|          | 0/942 [00:00<?, ?it/s]"
      ],
      "application/vnd.jupyter.widget-view+json": {
       "version_major": 2,
       "version_minor": 0,
       "model_id": "dd9b90db25d14e40b1bc694f1a9053af"
      }
     },
     "metadata": {},
     "output_type": "display_data"
    },
    {
     "name": "stdout",
     "output_type": "stream",
     "text": [
      "\n",
      "[SVD] Training started!\n",
      "\n",
      "[SVD] Evaluation started!\n"
     ]
    },
    {
     "data": {
      "text/plain": [
       "Rating:   0%|          | 0/19973 [00:00<?, ?it/s]"
      ],
      "application/vnd.jupyter.widget-view+json": {
       "version_major": 2,
       "version_minor": 0,
       "model_id": "2588e0a334594cb49cdb1fd81d19b1c6"
      }
     },
     "metadata": {},
     "output_type": "display_data"
    },
    {
     "data": {
      "text/plain": [
       "Ranking:   0%|          | 0/942 [00:00<?, ?it/s]"
      ],
      "application/vnd.jupyter.widget-view+json": {
       "version_major": 2,
       "version_minor": 0,
       "model_id": "8390c0f9a3834dde9dcc877dafb278e7"
      }
     },
     "metadata": {},
     "output_type": "display_data"
    },
    {
     "name": "stdout",
     "output_type": "stream",
     "text": [
      "\n",
      "[ItemKNN] Training started!\n"
     ]
    },
    {
     "data": {
      "text/plain": [
       "  0%|          | 0/1656 [00:00<?, ?it/s]"
      ],
      "application/vnd.jupyter.widget-view+json": {
       "version_major": 2,
       "version_minor": 0,
       "model_id": "b7ea465c9d9640ffb9f688c615110e6c"
      }
     },
     "metadata": {},
     "output_type": "display_data"
    },
    {
     "name": "stdout",
     "output_type": "stream",
     "text": [
      "\n",
      "[ItemKNN] Evaluation started!\n"
     ]
    },
    {
     "data": {
      "text/plain": [
       "Rating:   0%|          | 0/19973 [00:00<?, ?it/s]"
      ],
      "application/vnd.jupyter.widget-view+json": {
       "version_major": 2,
       "version_minor": 0,
       "model_id": "2c392edc807341c495b6eb228631cc86"
      }
     },
     "metadata": {},
     "output_type": "display_data"
    },
    {
     "data": {
      "text/plain": [
       "Ranking:   0%|          | 0/942 [00:00<?, ?it/s]"
      ],
      "application/vnd.jupyter.widget-view+json": {
       "version_major": 2,
       "version_minor": 0,
       "model_id": "5314486915ca4834bdcff2a5e08dc499"
      }
     },
     "metadata": {},
     "output_type": "display_data"
    },
    {
     "name": "stdout",
     "output_type": "stream",
     "text": [
      "\n",
      "[Hybrid] Training started!\n"
     ]
    },
    {
     "name": "stderr",
     "output_type": "stream",
     "text": [
      "/usr/local/lib/python3.12/dist-packages/cornac/models/recommender.py:322: UserWarning: Model is already fitted. Re-fitting will overwrite the previous model.\n",
      "  warnings.warn(\n"
     ]
    },
    {
     "data": {
      "text/plain": [
       "  0%|          | 0/1656 [00:00<?, ?it/s]"
      ],
      "application/vnd.jupyter.widget-view+json": {
       "version_major": 2,
       "version_minor": 0,
       "model_id": "fac22ca74e004396a9c0b08821591d6f"
      }
     },
     "metadata": {},
     "output_type": "display_data"
    },
    {
     "name": "stdout",
     "output_type": "stream",
     "text": [
      "\n",
      "[Hybrid] Evaluation started!\n"
     ]
    },
    {
     "data": {
      "text/plain": [
       "Rating:   0%|          | 0/19973 [00:00<?, ?it/s]"
      ],
      "application/vnd.jupyter.widget-view+json": {
       "version_major": 2,
       "version_minor": 0,
       "model_id": "7703a5f92292476ab1cdd9e5eeb3a971"
      }
     },
     "metadata": {},
     "output_type": "display_data"
    },
    {
     "data": {
      "text/plain": [
       "Ranking:   0%|          | 0/942 [00:00<?, ?it/s]"
      ],
      "application/vnd.jupyter.widget-view+json": {
       "version_major": 2,
       "version_minor": 0,
       "model_id": "f4bd3efc3f494481b4b3bd4389a2965e"
      }
     },
     "metadata": {},
     "output_type": "display_data"
    },
    {
     "name": "stdout",
     "output_type": "stream",
     "text": [
      "\n",
      "TEST:\n",
      "...\n",
      "        |    MAE |   RMSE | Precision@10 | Recall@10 | Train (s) | Test (s)\n",
      "------- + ------ + ------ + ------------ + --------- + --------- + --------\n",
      "MF      | 0.7439 | 0.8999 |       0.0717 |    0.0503 |    0.1990 |   4.6462\n",
      "BPR     | 2.1655 | 2.3669 |       0.1131 |    0.1190 |    0.4015 |   3.2772\n",
      "SVD     | 0.7526 | 0.9086 |       0.0574 |    0.0376 |    0.1186 |   3.3329\n",
      "ItemKNN | 0.8178 | 0.9926 |       0.0319 |    0.0197 |    0.3579 |  16.1995\n",
      "Hybrid  | 1.0370 | 1.2015 |       0.1807 |    0.1796 |    1.0432 |  17.2086\n",
      "\n"
     ]
    }
   ],
   "execution_count": 66
  },
  {
   "cell_type": "markdown",
   "metadata": {},
   "source": [
    "Extraer los resultados de las métricas"
   ]
  },
  {
   "cell_type": "code",
   "metadata": {
    "ExecuteTime": {
     "end_time": "2024-09-12T19:12:21.199649Z",
     "start_time": "2024-09-12T19:12:21.183792Z"
    }
   },
   "source": [
    "results = experiment.result\n",
    "mean_mae = results[0].metric_avg_results['MAE']\n",
    "mean_rmse = results[0].metric_avg_results['RMSE']\n",
    "mean_precision = results[0].metric_avg_results['Precision@10']\n",
    "mf_mae = results[1].metric_avg_results['MAE']\n",
    "mf_rmse = results[1].metric_avg_results['RMSE']\n",
    "mf_precision = results[1].metric_avg_results['Precision@10']\n",
    "bpr_mae = results[2].metric_avg_results['MAE']\n",
    "bpr_rmse = results[2].metric_avg_results['RMSE']\n",
    "bpr_precision = results[2].metric_avg_results['Precision@10']\n",
    "svd_mae = results[3].metric_avg_results['MAE']\n",
    "svd_rmse = results[3].metric_avg_results['RMSE']\n",
    "svd_precision = results[3].metric_avg_results['Precision@10']\n",
    "knn_mae = results[4].metric_avg_results['MAE']\n",
    "knn_rmse = results[4].metric_avg_results['RMSE']\n",
    "knn_precision = results[4].metric_avg_results['Precision@10']"
   ],
   "outputs": [],
   "execution_count": 67
  },
  {
   "cell_type": "markdown",
   "metadata": {},
   "source": [
    "Crear un gráfico de barras para mostrar los resultados"
   ]
  },
  {
   "cell_type": "code",
   "metadata": {
    "ExecuteTime": {
     "end_time": "2024-09-12T19:12:21.512888Z",
     "start_time": "2024-09-12T19:12:21.205144Z"
    }
   },
   "source": [
    "metrics_names = ['MF_MAE', 'MF_RMSE', 'MF_Pr', 'BPR_MAE', 'BPR_RMSE', 'BPR_Pr', 'MEAN_MAE', 'MEAN_RMSE', 'MEAN_Pr', 'SVD_MAE', 'SVD_RMSE', 'SVD_Pr', 'KNN_MAE', 'KNN_RMSE', 'KNN_Pr']\n",
    "values = [mf_mae, mf_rmse, mf_precision, bpr_mae, bpr_rmse, bpr_precision, mean_mae, mean_rmse, mean_precision, svd_mae, svd_rmse, svd_precision, knn_mae, knn_rmse, knn_precision] \n",
    "\n",
    "plt.figure(figsize=(18, 6))\n",
    "plt.bar(metrics_names, values, color=['blue', 'purple', 'red', 'blue', 'purple', 'red', 'blue', 'purple', 'red', 'blue', 'purple', 'red', 'blue', 'purple', 'red'])\n",
    "plt.xlabel('Métricas')\n",
    "plt.ylabel('Valores')\n",
    "plt.title('Resultados de las Métricas del Sistema de Recomendación')\n",
    "plt.show()\n"
   ],
   "outputs": [
    {
     "data": {
      "text/plain": [
       "<Figure size 1800x600 with 1 Axes>"
      ],
      "image/png": "[encoded data removed]"
     },
     "metadata": {},
     "output_type": "display_data"
    }
   ],
   "execution_count": 68
  },
  {
   "cell_type": "markdown",
   "metadata": {},
   "source": [
    "### Diversity Metrics ###"
   ]
  },
  {
   "metadata": {
    "ExecuteTime": {
     "end_time": "2024-09-12T19:12:21.534334Z",
     "start_time": "2024-09-12T19:12:21.523654Z"
    }
   },
   "cell_type": "code",
   "source": [
    "def calculate_item_popularity(dataset):\n",
    "    \"\"\"\n",
    "    Calculate the popularity of each item in the dataset.\n",
    "\n",
    "    Parameters:\n",
    "    dataset (list of tuples): List of user-item interactions, where each tuple is (user_id, item_id, rating).\n",
    "\n",
    "    Returns:\n",
    "    dict: Dictionary with item indices as keys and their popularity (number of interactions) as values.\n",
    "    \"\"\"\n",
    "    item_popularity = {}\n",
    "    for interaction in dataset:\n",
    "        item_id = interaction[1]\n",
    "        if item_id in item_popularity:\n",
    "            item_popularity[item_id] += 1\n",
    "        else:\n",
    "            item_popularity[item_id] = 1\n",
    "    return item_popularity"
   ],
   "outputs": [],
   "execution_count": 70
  },
  {
   "metadata": {},
   "cell_type": "markdown",
   "source": "Novelty for models"
  },
  {
   "metadata": {
    "ExecuteTime": {
     "end_time": "2024-09-12T19:12:21.550368Z",
     "start_time": "2024-09-12T19:12:21.536280Z"
    }
   },
   "cell_type": "code",
   "source": [
    "def novelty(recommendation_list, item_popularity):\n",
    "    \"\"\"\n",
    "    Calculate the novelty of a recommendation list.\n",
    "\n",
    "    Parameters:\n",
    "    recommendation_list (list): List of recommended item indices.\n",
    "    item_popularity (dict): Dictionary with item indices as keys and their popularity as values.\n",
    "\n",
    "    Returns:\n",
    "    float: Novelty score.\n",
    "    \"\"\"\n",
    "    total_novelty = 0.0\n",
    "    for item in recommendation_list:\n",
    "        total_novelty += 1 / (1 + item_popularity.get(item, 0))\n",
    "\n",
    "    return total_novelty / len(recommendation_list)"
   ],
   "outputs": [],
   "execution_count": 71
  },
  {
   "metadata": {},
   "cell_type": "markdown",
   "source": "Calculating novelty for each model"
  },
  {
   "metadata": {},
   "cell_type": "markdown",
   "source": ""
  },
  {
   "cell_type": "code",
   "metadata": {
    "ExecuteTime": {
     "end_time": "2024-09-12T19:25:27.368796Z",
     "start_time": "2024-09-12T19:24:56.014461Z"
    }
   },
   "source": [
    "item_popularity = calculate_item_popularity(dataset)\n",
    "\n",
    "for model in models:\n",
    "    novelty_score = 0\n",
    "    for user_id in range(1, model.total_users):\n",
    "        \n",
    "        recs = model.recommend(user_id=str(user_id), k=10)\n",
    "        \n",
    "        if model.name == 'Hybrid':\n",
    "            novelty_score += model.novelty(str(user_id), 10, item_popularity)\n",
    "        else:\n",
    "            novelty_score += novelty(recs, item_popularity)\n",
    "    avg = novelty_score / info['data'][0]\n",
    "    print(f\"Novelty score average of model {model.name}: {avg}\")"
   ],
   "outputs": [
    {
     "name": "stdout",
     "output_type": "stream",
     "text": [
      "Novelty score average of model MF: 0.01627447357620379\n",
      "Novelty score average of model BPR: 0.0024899429222041665\n",
      "Novelty score average of model SVD: 0.019806718219376816\n",
      "Novelty score average of model ItemKNN: 0.2654522894433265\n",
      "Novelty score average of model Hybrid: 0.30163437263457715\n"
     ]
    }
   ],
   "execution_count": 78
  }
 ],
 "metadata": {
  "kernelspec": {
   "display_name": "Python 3",
   "language": "python",
   "name": "python3"
  },
  "language_info": {
   "codemirror_mode": {
    "name": "ipython",
    "version": 3
   },
   "file_extension": ".py",
   "mimetype": "text/x-python",
   "name": "python",
   "nbconvert_exporter": "python",
   "pygments_lexer": "ipython3",
   "version": "3.12.3"
  }
 },
 "nbformat": 4,
 "nbformat_minor": 2
}
