{
 "cells": [
  {
   "cell_type": "markdown",
   "metadata": {},
   "source": [
    "Importamos las librerías necesarias"
   ]
  },
  {
   "cell_type": "code",
   "execution_count": 1,
   "metadata": {
    "ExecuteTime": {
     "end_time": "2024-09-11T20:38:07.943145Z",
     "start_time": "2024-09-11T20:38:07.927738Z"
    }
   },
   "outputs": [],
   "source": [
    "import numpy as np\n",
    "import matplotlib.pyplot as plt\n",
    "import cornac\n",
    "from cornac.datasets import movielens\n",
    "from cornac.metrics import Recall, Precision, MAE, RMSE\n",
    "from cornac.models import ItemKNN, MF\n",
    "from cornac.models import Recommender\n",
    "from cornac.eval_methods import RatioSplit"
   ]
  },
  {
   "cell_type": "markdown",
   "metadata": {},
   "source": [
    "Crear modelos propios"
   ]
  },
  {
   "cell_type": "code",
   "execution_count": 2,
   "metadata": {
    "ExecuteTime": {
     "end_time": "2024-09-11T20:38:08.390313Z",
     "start_time": "2024-09-11T20:38:08.370375Z"
    }
   },
   "outputs": [],
   "source": [
    "class Hybrid(Recommender):\n",
    "    def __init__(self, models, weights, name=\"Hybrid\"):\n",
    "        super().__init__(name=name)\n",
    "        self.models = models\n",
    "        self.weights = weights\n",
    "\n",
    "    def fit(self, train_set, eval_set=None):\n",
    "        super().fit(train_set,eval_set)\n",
    "        for m in self.models:\n",
    "            m.fit(train_set, eval_set)\n",
    "\n",
    "    def score(self, user_idx, item_idx=None):\n",
    "        ponderated_sum = 0\n",
    "        # if each weight is 1/len(weights) is the average  \n",
    "        for idx in range(len(self.models)):\n",
    "            ponderated_sum += self.models[idx].score(user_idx, item_idx)*self.weights[idx]\n",
    "\n",
    "        return ponderated_sum/sum(self.weights)\n",
    "    \n",
    "class KFN(Recommender):\n",
    "    def __init__(self, name=\"KFN\"):\n",
    "        super().__init__(name)\n",
    "        \n",
    "    def fit(self, train_set, eval_set=None):\n",
    "        super().fit(train_set, eval_set)\n",
    "    def score(self, user_idx, item_idx=None):\n",
    "        return 1\n",
    "    def recommend(self, user_id, k=-1, remove_seen=False, train_set=None):\n",
    "        return super().recommend(user_id, k, remove_seen, train_set)\n",
    "    \n",
    "class DHybrid(Hybrid):\n",
    "    def __init__(self, models, weights, name=\"Hybrid\"):\n",
    "        super().__init__(models, weights, name)\n",
    "        self.kfn = KFN(\"KFN\")\n",
    "        \n",
    "    def fit(self, train_set, eval_set=None):\n",
    "        super().fit(train_set, eval_set)\n",
    "        self.kfn.fit(train_set, eval_set)\n",
    "        \n",
    "    def score(self, user_idx, item_idx=None):\n",
    "        return super().score(user_idx, item_idx)\n",
    "    \n",
    "    def recommend(self, user_id, k=-1, remove_seen=False, train_set=None, n = 3):\n",
    "        recommendations = super().recommend(user_id, k, remove_seen, train_set)\n",
    "        if n < len(recommendations):\n",
    "            recommendations[-n:] = self.kfn.recommend[:n]\n",
    "        return recommendations\n",
    "    "
   ]
  },
  {
   "cell_type": "markdown",
   "metadata": {},
   "source": [
    "Cargar el dataset de MovieLens 100K"
   ]
  },
  {
   "cell_type": "code",
   "execution_count": 3,
   "metadata": {
    "ExecuteTime": {
     "end_time": "2024-09-11T20:38:08.796442Z",
     "start_time": "2024-09-11T20:38:08.422229Z"
    }
   },
   "outputs": [],
   "source": [
    "data = movielens.load_feedback()"
   ]
  },
  {
   "cell_type": "markdown",
   "metadata": {},
   "source": [
    "Definir el método de evaluación"
   ]
  },
  {
   "cell_type": "code",
   "execution_count": 4,
   "metadata": {
    "ExecuteTime": {
     "end_time": "2024-09-11T20:38:09.577122Z",
     "start_time": "2024-09-11T20:38:08.799980Z"
    }
   },
   "outputs": [
    {
     "name": "stdout",
     "output_type": "stream",
     "text": [
      "rating_threshold = 4.0\n",
      "exclude_unknowns = True\n",
      "---\n",
      "Training data:\n",
      "Number of users = 943\n",
      "Number of items = 1656\n",
      "Number of ratings = 80000\n",
      "Max rating = 5.0\n",
      "Min rating = 1.0\n",
      "Global mean = 3.5\n",
      "---\n",
      "Test data:\n",
      "Number of users = 943\n",
      "Number of items = 1656\n",
      "Number of ratings = 19971\n",
      "Number of unknown users = 0\n",
      "Number of unknown items = 0\n",
      "---\n",
      "Total users = 943\n",
      "Total items = 1656\n"
     ]
    }
   ],
   "source": [
    "ratio_split = RatioSplit(data=data, test_size=0.2, rating_threshold=4.0, exclude_unknowns=True, verbose=True)"
   ]
  },
  {
   "cell_type": "markdown",
   "metadata": {},
   "source": [
    "Definir los modelos a emplear"
   ]
  },
  {
   "cell_type": "code",
   "execution_count": 5,
   "metadata": {
    "ExecuteTime": {
     "end_time": "2024-09-11T20:38:09.590394Z",
     "start_time": "2024-09-11T20:38:09.580184Z"
    }
   },
   "outputs": [],
   "source": [
    "mf = MF(k=10, max_iter=25, learning_rate=0.01, lambda_reg=0.02)\n",
    "svd = cornac.models.SVD()\n",
    "knn = ItemKNN(k=20, similarity='cosine', name='ItemKNN')\n",
    "bpr = cornac.models.BPR(k=10, max_iter=25, learning_rate=0.01, lambda_reg=0.02)\n",
    "hybrid = DHybrid([svd, bpr, knn], (6,3,1))\n"
   ]
  },
  {
   "cell_type": "markdown",
   "metadata": {},
   "source": [
    "Definir las metricas a utilizar"
   ]
  },
  {
   "cell_type": "code",
   "execution_count": 6,
   "metadata": {},
   "outputs": [],
   "source": [
    "metrics = [MAE(), RMSE(), Recall(10), Precision(10)]"
   ]
  },
  {
   "cell_type": "markdown",
   "metadata": {},
   "source": [
    "Definir el experimento\n"
   ]
  },
  {
   "cell_type": "code",
   "execution_count": 7,
   "metadata": {},
   "outputs": [],
   "source": [
    "experiment = cornac.Experiment(eval_method=ratio_split, models=[mf, bpr, svd, knn, hybrid], metrics=metrics)"
   ]
  },
  {
   "cell_type": "markdown",
   "metadata": {},
   "source": [
    "Ejecutar el experimento"
   ]
  },
  {
   "cell_type": "code",
   "execution_count": 8,
   "metadata": {},
   "outputs": [
    {
     "name": "stdout",
     "output_type": "stream",
     "text": [
      "\n",
      "[MF] Training started!\n",
      "\n",
      "[MF] Evaluation started!\n"
     ]
    },
    {
     "data": {
      "application/vnd.jupyter.widget-view+json": {
       "model_id": "1b64eaa48de444c1979cd8e359fbdc4d",
       "version_major": 2,
       "version_minor": 0
      },
      "text/plain": [
       "Rating:   0%|          | 0/19971 [00:00<?, ?it/s]"
      ]
     },
     "metadata": {},
     "output_type": "display_data"
    },
    {
     "data": {
      "application/vnd.jupyter.widget-view+json": {
       "model_id": "c96f54e5968042cf85ec52985676bd28",
       "version_major": 2,
       "version_minor": 0
      },
      "text/plain": [
       "Ranking:   0%|          | 0/943 [00:00<?, ?it/s]"
      ]
     },
     "metadata": {},
     "output_type": "display_data"
    },
    {
     "name": "stdout",
     "output_type": "stream",
     "text": [
      "\n",
      "[BPR] Training started!\n",
      "\n",
      "[BPR] Evaluation started!\n"
     ]
    },
    {
     "data": {
      "application/vnd.jupyter.widget-view+json": {
       "model_id": "7efb4f2f7f6d4cecba64284608d9ba3e",
       "version_major": 2,
       "version_minor": 0
      },
      "text/plain": [
       "Rating:   0%|          | 0/19971 [00:00<?, ?it/s]"
      ]
     },
     "metadata": {},
     "output_type": "display_data"
    },
    {
     "data": {
      "application/vnd.jupyter.widget-view+json": {
       "model_id": "17a829b1ab4a47d29aefc433ab608381",
       "version_major": 2,
       "version_minor": 0
      },
      "text/plain": [
       "Ranking:   0%|          | 0/943 [00:00<?, ?it/s]"
      ]
     },
     "metadata": {},
     "output_type": "display_data"
    },
    {
     "name": "stdout",
     "output_type": "stream",
     "text": [
      "\n",
      "[SVD] Training started!\n",
      "\n",
      "[SVD] Evaluation started!\n"
     ]
    },
    {
     "data": {
      "application/vnd.jupyter.widget-view+json": {
       "model_id": "c123fb8d4e6d4d5e910a7f8f842051cb",
       "version_major": 2,
       "version_minor": 0
      },
      "text/plain": [
       "Rating:   0%|          | 0/19971 [00:00<?, ?it/s]"
      ]
     },
     "metadata": {},
     "output_type": "display_data"
    },
    {
     "data": {
      "application/vnd.jupyter.widget-view+json": {
       "model_id": "676015a3c5c7469aa53f842ca802b5db",
       "version_major": 2,
       "version_minor": 0
      },
      "text/plain": [
       "Ranking:   0%|          | 0/943 [00:00<?, ?it/s]"
      ]
     },
     "metadata": {},
     "output_type": "display_data"
    },
    {
     "name": "stdout",
     "output_type": "stream",
     "text": [
      "\n",
      "[ItemKNN] Training started!\n"
     ]
    },
    {
     "data": {
      "application/vnd.jupyter.widget-view+json": {
       "model_id": "adee5dd93a9d45f684355f618ec9bde3",
       "version_major": 2,
       "version_minor": 0
      },
      "text/plain": [
       "  0%|          | 0/1656 [00:00<?, ?it/s]"
      ]
     },
     "metadata": {},
     "output_type": "display_data"
    },
    {
     "name": "stdout",
     "output_type": "stream",
     "text": [
      "\n",
      "[ItemKNN] Evaluation started!\n"
     ]
    },
    {
     "data": {
      "application/vnd.jupyter.widget-view+json": {
       "model_id": "e6908e8ac7c0416e86cb96c408c5ba30",
       "version_major": 2,
       "version_minor": 0
      },
      "text/plain": [
       "Rating:   0%|          | 0/19971 [00:00<?, ?it/s]"
      ]
     },
     "metadata": {},
     "output_type": "display_data"
    },
    {
     "data": {
      "application/vnd.jupyter.widget-view+json": {
       "model_id": "4c1f726578074293aae18614a427ee22",
       "version_major": 2,
       "version_minor": 0
      },
      "text/plain": [
       "Ranking:   0%|          | 0/943 [00:00<?, ?it/s]"
      ]
     },
     "metadata": {},
     "output_type": "display_data"
    },
    {
     "name": "stdout",
     "output_type": "stream",
     "text": [
      "\n",
      "[Hybrid] Training started!\n"
     ]
    },
    {
     "name": "stderr",
     "output_type": "stream",
     "text": [
      "/usr/local/lib/python3.12/dist-packages/cornac/models/recommender.py:322: UserWarning: Model is already fitted. Re-fitting will overwrite the previous model.\n",
      "  warnings.warn(\n"
     ]
    },
    {
     "data": {
      "application/vnd.jupyter.widget-view+json": {
       "model_id": "2c8a010ab55b451ea3f4788d3c24bae7",
       "version_major": 2,
       "version_minor": 0
      },
      "text/plain": [
       "  0%|          | 0/1656 [00:00<?, ?it/s]"
      ]
     },
     "metadata": {},
     "output_type": "display_data"
    },
    {
     "name": "stdout",
     "output_type": "stream",
     "text": [
      "\n",
      "[Hybrid] Evaluation started!\n"
     ]
    },
    {
     "data": {
      "application/vnd.jupyter.widget-view+json": {
       "model_id": "0494b5ab525d4fef85b2451fe0bc6389",
       "version_major": 2,
       "version_minor": 0
      },
      "text/plain": [
       "Rating:   0%|          | 0/19971 [00:00<?, ?it/s]"
      ]
     },
     "metadata": {},
     "output_type": "display_data"
    },
    {
     "data": {
      "application/vnd.jupyter.widget-view+json": {
       "model_id": "10060dc993614a28a4985613c11a9cd6",
       "version_major": 2,
       "version_minor": 0
      },
      "text/plain": [
       "Ranking:   0%|          | 0/943 [00:00<?, ?it/s]"
      ]
     },
     "metadata": {},
     "output_type": "display_data"
    },
    {
     "name": "stdout",
     "output_type": "stream",
     "text": [
      "\n",
      "TEST:\n",
      "...\n",
      "        |    MAE |   RMSE | Precision@10 | Recall@10 | Train (s) | Test (s)\n",
      "------- + ------ + ------ + ------------ + --------- + --------- + --------\n",
      "MF      | 0.7463 | 0.9052 |       0.0743 |    0.0548 |    0.1411 |   2.9719\n",
      "BPR     | 2.1278 | 2.3306 |       0.1134 |    0.1173 |    0.4793 |   5.0678\n",
      "SVD     | 0.7556 | 0.9144 |       0.0651 |    0.0536 |    0.1150 |   4.6549\n",
      "ItemKNN | 0.8291 | 1.0085 |       0.0288 |    0.0163 |    0.3623 |  14.4025\n",
      "Hybrid  | 0.9666 | 1.1271 |       0.1638 |    0.1399 |    1.0191 |  23.6094\n",
      "\n"
     ]
    }
   ],
   "source": [
    "experiment.run()"
   ]
  },
  {
   "cell_type": "markdown",
   "metadata": {},
   "source": [
    "Extraer los resultados de las métricas"
   ]
  },
  {
   "cell_type": "code",
   "execution_count": 9,
   "metadata": {},
   "outputs": [],
   "source": [
    "results = experiment.result\n",
    "mean_mae = results[0].metric_avg_results['MAE']\n",
    "mean_rmse = results[0].metric_avg_results['RMSE']\n",
    "mean_precision = results[0].metric_avg_results['Precision@10']\n",
    "mf_mae = results[1].metric_avg_results['MAE']\n",
    "mf_rmse = results[1].metric_avg_results['RMSE']\n",
    "mf_precision = results[1].metric_avg_results['Precision@10']\n",
    "bpr_mae = results[2].metric_avg_results['MAE']\n",
    "bpr_rmse = results[2].metric_avg_results['RMSE']\n",
    "bpr_precision = results[2].metric_avg_results['Precision@10']\n",
    "svd_mae = results[3].metric_avg_results['MAE']\n",
    "svd_rmse = results[3].metric_avg_results['RMSE']\n",
    "svd_precision = results[3].metric_avg_results['Precision@10']\n",
    "knn_mae = results[4].metric_avg_results['MAE']\n",
    "knn_rmse = results[4].metric_avg_results['RMSE']\n",
    "knn_precision = results[4].metric_avg_results['Precision@10']"
   ]
  },
  {
   "cell_type": "markdown",
   "metadata": {},
   "source": [
    "Crear un gráfico de barras para mostrar los resultados"
   ]
  },
  {
   "cell_type": "code",
   "execution_count": 10,
   "metadata": {},
   "outputs": [
    {
     "data": {
      "image/png": "[encoded data removed]",
      "text/plain": [
       "<Figure size 1800x600 with 1 Axes>"
      ]
     },
     "metadata": {},
     "output_type": "display_data"
    }
   ],
   "source": [
    "metrics_names = ['MF_MAE', 'MF_RMSE', 'MF_Pr', 'BPR_MAE', 'BPR_RMSE', 'BPR_Pr', 'MEAN_MAE', 'MEAN_RMSE', 'MEAN_Pr', 'SVD_MAE', 'SVD_RMSE', 'SVD_Pr', 'KNN_MAE', 'KNN_RMSE', 'KNN_Pr']\n",
    "values = [mf_mae, mf_rmse, mf_precision, bpr_mae, bpr_rmse, bpr_precision, mean_mae, mean_rmse, mean_precision, svd_mae, svd_rmse, svd_precision, knn_mae, knn_rmse, knn_precision] \n",
    "\n",
    "plt.figure(figsize=(18, 6))\n",
    "plt.bar(metrics_names, values, color=['blue', 'purple', 'red', 'blue', 'purple', 'red', 'blue', 'purple', 'red', 'blue', 'purple', 'red', 'blue', 'purple', 'red'])\n",
    "plt.xlabel('Métricas')\n",
    "plt.ylabel('Valores')\n",
    "plt.title('Resultados de las Métricas del Sistema de Recomendación')\n",
    "plt.show()\n"
   ]
  }
 ],
 "metadata": {
  "kernelspec": {
   "display_name": "Python 3",
   "language": "python",
   "name": "python3"
  },
  "language_info": {
   "codemirror_mode": {
    "name": "ipython",
    "version": 3
   },
   "file_extension": ".py",
   "mimetype": "text/x-python",
   "name": "python",
   "nbconvert_exporter": "python",
   "pygments_lexer": "ipython3",
   "version": "3.12.3"
  }
 },
 "nbformat": 4,
 "nbformat_minor": 2
}
