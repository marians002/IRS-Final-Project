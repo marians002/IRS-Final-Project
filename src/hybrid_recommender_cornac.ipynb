{
 "cells": [
  {
   "cell_type": "markdown",
   "metadata": {},
   "source": [
    "Importamos las librerías necesarias"
   ]
  },
  {
   "cell_type": "code",
   "execution_count": 93,
   "metadata": {},
   "outputs": [],
   "source": [
    "import numpy as np\n",
    "import matplotlib.pyplot as plt\n",
    "import cornac\n",
    "from cornac.datasets import movielens\n",
    "from cornac.eval_methods import RatioSplit\n",
    "from cornac.metrics import Recall, Precision, MAE, RMSE\n",
    "from cornac.models import ItemKNN, BPR, MF, SVD\n",
    "from cornac.models import Recommender\n",
    "from surprise import SVD\n",
    "from cornac.eval_methods import RatioSplit"
   ]
  },
  {
   "cell_type": "markdown",
   "metadata": {},
   "source": [
    "Crear modelos propios"
   ]
  },
  {
   "cell_type": "code",
   "execution_count": 94,
   "metadata": {},
   "outputs": [],
   "source": [
    "class Hybrid(cornac.models.Recommender):\n",
    "    def __init__(self, models, weights, name=\"Hybrid\"):\n",
    "        super().__init__(name=name)\n",
    "        self.models = models\n",
    "        self.weights = weights\n",
    "\n",
    "    def fit(self, train_set, eval_set):\n",
    "        super().fit(train_set,eval_set)\n",
    "        for m in self.models:\n",
    "            m.fit(train_set, eval_set)\n",
    "\n",
    "    def score(self, user_idx, item_idx=None):\n",
    "        ponderated_sum = 0\n",
    "        # if each weight is 1/len(weights) is the average  \n",
    "        for idx in range(len(self.models)):\n",
    "            ponderated_sum += self.models[idx].score(user_idx, item_idx)*self.weights[idx]\n",
    "\n",
    "        return ponderated_sum/sum(self.weights)\n"
   ]
  },
  {
   "cell_type": "markdown",
   "metadata": {},
   "source": [
    "Cargar el dataset de MovieLens 100K"
   ]
  },
  {
   "cell_type": "code",
   "execution_count": 95,
   "metadata": {},
   "outputs": [],
   "source": [
    "data = movielens.load_feedback()"
   ]
  },
  {
   "cell_type": "markdown",
   "metadata": {},
   "source": [
    "Definir el método de evaluación"
   ]
  },
  {
   "cell_type": "code",
   "execution_count": 96,
   "metadata": {},
   "outputs": [
    {
     "name": "stdout",
     "output_type": "stream",
     "text": [
      "rating_threshold = 4.0\n",
      "exclude_unknowns = True\n",
      "---\n",
      "Training data:\n",
      "Number of users = 943\n",
      "Number of items = 1647\n",
      "Number of ratings = 80000\n",
      "Max rating = 5.0\n",
      "Min rating = 1.0\n",
      "Global mean = 3.5\n",
      "---\n",
      "Test data:\n",
      "Number of users = 943\n",
      "Number of items = 1647\n",
      "Number of ratings = 19962\n",
      "Number of unknown users = 0\n",
      "Number of unknown items = 0\n",
      "---\n",
      "Total users = 943\n",
      "Total items = 1647\n"
     ]
    }
   ],
   "source": [
    "ratio_split = RatioSplit(data=data, test_size=0.2, rating_threshold=4.0, exclude_unknowns=True, verbose=True)"
   ]
  },
  {
   "cell_type": "markdown",
   "metadata": {},
   "source": [
    "Definir los modelos a emplear"
   ]
  },
  {
   "cell_type": "code",
   "execution_count": 97,
   "metadata": {},
   "outputs": [],
   "source": [
    "mean_recommender = MeanRecommender() # Modelo propio\n",
    "mf = MF(k=10, max_iter=25, learning_rate=0.01, lambda_reg=0.02)\n",
    "svd = cornac.models.SVD()\n",
    "knn = ItemKNN(k=20, similarity='cosine', name='ItemKNN')\n",
    "bpr = cornac.models.BPR(k=10, max_iter=25, learning_rate=0.01, lambda_reg=0.02)\n",
    "hybrid = Hybrid([mf, knn], (10,1))\n",
    "hybrid = Hybrid([svd, knn], (10,1))\n",
    "hybrid = Hybrid([bpr, knn], (10,1))\n",
    "hybrid = Hybrid([svd, bpr, knn], (6,3,1))\n"
   ]
  },
  {
   "cell_type": "markdown",
   "metadata": {},
   "source": [
    "Definir las metricas a utilizar"
   ]
  },
  {
   "cell_type": "code",
   "execution_count": 98,
   "metadata": {},
   "outputs": [],
   "source": [
    "metrics = []\n",
    "metrics.append(MAE())\n",
    "metrics.append(RMSE())\n",
    "metrics.append(Recall(10))\n",
    "metrics.append(Precision(10))"
   ]
  },
  {
   "cell_type": "markdown",
   "metadata": {},
   "source": [
    "Definir el experimento\n"
   ]
  },
  {
   "cell_type": "code",
   "execution_count": 99,
   "metadata": {},
   "outputs": [],
   "source": [
    "experiment = cornac.Experiment(eval_method=ratio_split, models=[mean_recommender, mf, bpr, svd, knn, hybrid], metrics=metrics)"
   ]
  },
  {
   "cell_type": "markdown",
   "metadata": {},
   "source": [
    "Ejecutar el experimento"
   ]
  },
  {
   "cell_type": "code",
   "execution_count": 100,
   "metadata": {},
   "outputs": [
    {
     "name": "stdout",
     "output_type": "stream",
     "text": [
      "\n",
      "[MeanRecommender] Training started!\n",
      "\n",
      "[MeanRecommender] Evaluation started!\n"
     ]
    },
    {
     "data": {
      "application/vnd.jupyter.widget-view+json": {
       "model_id": "1f7867209b274f328b1b09da132e36dd",
       "version_major": 2,
       "version_minor": 0
      },
      "text/plain": [
       "Rating:   0%|          | 0/19962 [00:00<?, ?it/s]"
      ]
     },
     "metadata": {},
     "output_type": "display_data"
    },
    {
     "data": {
      "application/vnd.jupyter.widget-view+json": {
       "model_id": "9676e365aefb451dab051555e1b20901",
       "version_major": 2,
       "version_minor": 0
      },
      "text/plain": [
       "Ranking:   0%|          | 0/942 [00:00<?, ?it/s]"
      ]
     },
     "metadata": {},
     "output_type": "display_data"
    },
    {
     "name": "stdout",
     "output_type": "stream",
     "text": [
      "\n",
      "[MF] Training started!\n",
      "\n",
      "[MF] Evaluation started!\n"
     ]
    },
    {
     "data": {
      "application/vnd.jupyter.widget-view+json": {
       "model_id": "61df346a11334165adddbc0046b27b90",
       "version_major": 2,
       "version_minor": 0
      },
      "text/plain": [
       "Rating:   0%|          | 0/19962 [00:00<?, ?it/s]"
      ]
     },
     "metadata": {},
     "output_type": "display_data"
    },
    {
     "data": {
      "application/vnd.jupyter.widget-view+json": {
       "model_id": "3aaf2a404a3248dd80a10e605596909b",
       "version_major": 2,
       "version_minor": 0
      },
      "text/plain": [
       "Ranking:   0%|          | 0/942 [00:00<?, ?it/s]"
      ]
     },
     "metadata": {},
     "output_type": "display_data"
    },
    {
     "name": "stdout",
     "output_type": "stream",
     "text": [
      "\n",
      "[BPR] Training started!\n",
      "\n",
      "[BPR] Evaluation started!\n"
     ]
    },
    {
     "data": {
      "application/vnd.jupyter.widget-view+json": {
       "model_id": "463a317cdef4466c8dd5f9a6e664a026",
       "version_major": 2,
       "version_minor": 0
      },
      "text/plain": [
       "Rating:   0%|          | 0/19962 [00:00<?, ?it/s]"
      ]
     },
     "metadata": {},
     "output_type": "display_data"
    },
    {
     "data": {
      "application/vnd.jupyter.widget-view+json": {
       "model_id": "cf57f0c006174dbb9cbd4c542fa6e786",
       "version_major": 2,
       "version_minor": 0
      },
      "text/plain": [
       "Ranking:   0%|          | 0/942 [00:00<?, ?it/s]"
      ]
     },
     "metadata": {},
     "output_type": "display_data"
    },
    {
     "name": "stdout",
     "output_type": "stream",
     "text": [
      "\n",
      "[SVD] Training started!\n",
      "\n",
      "[SVD] Evaluation started!\n"
     ]
    },
    {
     "data": {
      "application/vnd.jupyter.widget-view+json": {
       "model_id": "11dccd9ed39f424984bc3b51c8458beb",
       "version_major": 2,
       "version_minor": 0
      },
      "text/plain": [
       "Rating:   0%|          | 0/19962 [00:00<?, ?it/s]"
      ]
     },
     "metadata": {},
     "output_type": "display_data"
    },
    {
     "data": {
      "application/vnd.jupyter.widget-view+json": {
       "model_id": "b775adfc3b634df288f2f0fe58b1cb37",
       "version_major": 2,
       "version_minor": 0
      },
      "text/plain": [
       "Ranking:   0%|          | 0/942 [00:00<?, ?it/s]"
      ]
     },
     "metadata": {},
     "output_type": "display_data"
    },
    {
     "name": "stdout",
     "output_type": "stream",
     "text": [
      "\n",
      "[ItemKNN] Training started!\n"
     ]
    },
    {
     "data": {
      "application/vnd.jupyter.widget-view+json": {
       "model_id": "aaad9e388858428796cf6dce326c9318",
       "version_major": 2,
       "version_minor": 0
      },
      "text/plain": [
       "  0%|          | 0/1647 [00:00<?, ?it/s]"
      ]
     },
     "metadata": {},
     "output_type": "display_data"
    },
    {
     "name": "stdout",
     "output_type": "stream",
     "text": [
      "\n",
      "[ItemKNN] Evaluation started!\n"
     ]
    },
    {
     "data": {
      "application/vnd.jupyter.widget-view+json": {
       "model_id": "892c0c9dc05f4509ac91cb0ed68cfb28",
       "version_major": 2,
       "version_minor": 0
      },
      "text/plain": [
       "Rating:   0%|          | 0/19962 [00:00<?, ?it/s]"
      ]
     },
     "metadata": {},
     "output_type": "display_data"
    },
    {
     "data": {
      "application/vnd.jupyter.widget-view+json": {
       "model_id": "033d7fa2913e4b1fb896cfd5a7fc5c66",
       "version_major": 2,
       "version_minor": 0
      },
      "text/plain": [
       "Ranking:   0%|          | 0/942 [00:00<?, ?it/s]"
      ]
     },
     "metadata": {},
     "output_type": "display_data"
    },
    {
     "name": "stdout",
     "output_type": "stream",
     "text": [
      "\n",
      "[Hybrid] Training started!\n"
     ]
    },
    {
     "data": {
      "application/vnd.jupyter.widget-view+json": {
       "model_id": "179147df1e1b4d229c95b801950366e1",
       "version_major": 2,
       "version_minor": 0
      },
      "text/plain": [
       "  0%|          | 0/1647 [00:00<?, ?it/s]"
      ]
     },
     "metadata": {},
     "output_type": "display_data"
    },
    {
     "name": "stdout",
     "output_type": "stream",
     "text": [
      "\n",
      "[Hybrid] Evaluation started!\n"
     ]
    },
    {
     "data": {
      "application/vnd.jupyter.widget-view+json": {
       "model_id": "c40f4e547b31488eb5ce0b4840a8c1d0",
       "version_major": 2,
       "version_minor": 0
      },
      "text/plain": [
       "Rating:   0%|          | 0/19962 [00:00<?, ?it/s]"
      ]
     },
     "metadata": {},
     "output_type": "display_data"
    },
    {
     "data": {
      "application/vnd.jupyter.widget-view+json": {
       "model_id": "6b3dc5741f0248dea8ed7c049d0ae72d",
       "version_major": 2,
       "version_minor": 0
      },
      "text/plain": [
       "Ranking:   0%|          | 0/942 [00:00<?, ?it/s]"
      ]
     },
     "metadata": {},
     "output_type": "display_data"
    },
    {
     "name": "stdout",
     "output_type": "stream",
     "text": [
      "\n",
      "TEST:\n",
      "...\n",
      "                |    MAE |   RMSE | Precision@10 | Recall@10 | Train (s) | Test (s)\n",
      "--------------- + ------ + ------ + ------------ + --------- + --------- + --------\n",
      "MeanRecommender | 0.8368 | 1.0009 |       0.0005 |    0.0003 |    0.5148 |   1.2324\n",
      "MF              | 0.7502 | 0.9094 |       0.0722 |    0.0482 |    0.1095 |   3.0530\n",
      "BPR             | 2.1732 | 2.3729 |       0.1092 |    0.1067 |    0.4073 |   2.4887\n",
      "SVD             | 0.7578 | 0.9182 |       0.0641 |    0.0437 |    0.0404 |   1.7787\n",
      "ItemKNN         | 0.8209 | 0.9982 |       0.0270 |    0.0159 |    0.1441 |   6.8455\n",
      "Hybrid          | 0.9923 | 1.1590 |       0.1583 |    0.1306 |    0.2728 |   7.3424\n",
      "\n"
     ]
    }
   ],
   "source": [
    "experiment.run()"
   ]
  },
  {
   "cell_type": "markdown",
   "metadata": {},
   "source": [
    "Extraer los resultados de las métricas"
   ]
  },
  {
   "cell_type": "code",
   "execution_count": 101,
   "metadata": {},
   "outputs": [],
   "source": [
    "results = experiment.result\n",
    "mean_mae = results[0].metric_avg_results['MAE']\n",
    "mean_rmse = results[0].metric_avg_results['RMSE']\n",
    "mean_precision = results[0].metric_avg_results['Precision@10']\n",
    "mf_mae = results[1].metric_avg_results['MAE']\n",
    "mf_rmse = results[1].metric_avg_results['RMSE']\n",
    "mf_precision = results[1].metric_avg_results['Precision@10']\n",
    "bpr_mae = results[2].metric_avg_results['MAE']\n",
    "bpr_rmse = results[2].metric_avg_results['RMSE']\n",
    "bpr_precision = results[2].metric_avg_results['Precision@10']\n",
    "svd_mae = results[3].metric_avg_results['MAE']\n",
    "svd_rmse = results[3].metric_avg_results['RMSE']\n",
    "svd_precision = results[3].metric_avg_results['Precision@10']\n",
    "knn_mae = results[4].metric_avg_results['MAE']\n",
    "knn_rmse = results[4].metric_avg_results['RMSE']\n",
    "knn_precision = results[4].metric_avg_results['Precision@10']"
   ]
  },
  {
   "cell_type": "markdown",
   "metadata": {},
   "source": [
    "Crear un gráfico de barras para mostrar los resultados"
   ]
  },
  {
   "cell_type": "code",
   "execution_count": 102,
   "metadata": {},
   "outputs": [
    {
     "data": {
      "image/png": "[encoded data removed]",
      "text/plain": [
       "<Figure size 1800x600 with 1 Axes>"
      ]
     },
     "metadata": {},
     "output_type": "display_data"
    }
   ],
   "source": [
    "metrics_names = ['MF_MAE', 'MF_RMSE', 'MF_Pr', 'BPR_MAE', 'BPR_RMSE', 'BPR_Pr', 'MEAN_MAE', 'MEAN_RMSE', 'MEAN_Pr', 'SVD_MAE', 'SVD_RMSE', 'SVD_Pr', 'KNN_MAE', 'KNN_RMSE', 'KNN_Pr']\n",
    "values = [mf_mae, mf_rmse, mf_precision, bpr_mae, bpr_rmse, bpr_precision, mean_mae, mean_rmse, mean_precision, svd_mae, svd_rmse, svd_precision, knn_mae, knn_rmse, knn_precision] \n",
    "\n",
    "plt.figure(figsize=(18, 6))\n",
    "plt.bar(metrics_names, values, color=['blue', 'purple', 'red', 'blue', 'purple', 'red', 'blue', 'purple', 'red', 'blue', 'purple', 'red', 'blue', 'purple', 'red'])\n",
    "plt.xlabel('Métricas')\n",
    "plt.ylabel('Valores')\n",
    "plt.title('Resultados de las Métricas del Sistema de Recomendación')\n",
    "plt.show()\n"
   ]
  },
  {
   "cell_type": "markdown",
   "metadata": {},
   "source": [
    "lej"
   ]
  },
  {
   "cell_type": "code",
   "execution_count": null,
   "metadata": {},
   "outputs": [],
   "source": []
  }
 ],
 "metadata": {
  "kernelspec": {
   "display_name": "Python 3",
   "language": "python",
   "name": "python3"
  },
  "language_info": {
   "codemirror_mode": {
    "name": "ipython",
    "version": 3
   },
   "file_extension": ".py",
   "mimetype": "text/x-python",
   "name": "python",
   "nbconvert_exporter": "python",
   "pygments_lexer": "ipython3",
   "version": "3.12.3"
  }
 },
 "nbformat": 4,
 "nbformat_minor": 2
}
