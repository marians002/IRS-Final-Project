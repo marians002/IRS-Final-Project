{
 "cells": [
  {
   "cell_type": "markdown",
   "metadata": {},
   "source": [
    "Importamos las librerías necesarias"
   ]
  },
  {
   "cell_type": "code",
   "execution_count": 13,
   "metadata": {},
   "outputs": [],
   "source": [
    "import numpy as np\n",
    "import matplotlib.pyplot as plt\n",
    "import cornac\n",
    "import pandas as pd\n",
    "from cornac.datasets import movielens\n",
    "from cornac.metrics import Recall, Precision, MAE, RMSE\n",
    "from cornac.models import ItemKNN, BPR, MF\n",
    "from cornac.eval_methods import RatioSplit\n",
    "from sklearn.metrics.pairwise import cosine_similarity\n"
   ]
  },
  {
   "cell_type": "markdown",
   "metadata": {},
   "source": [
    "Cargar el dataset de MovieLens 100K"
   ]
  },
  {
   "cell_type": "code",
   "execution_count": 14,
   "metadata": {},
   "outputs": [
    {
     "name": "stdout",
     "output_type": "stream",
     "text": [
      "Dimensions of our genres cosine similarity matrix: (1682, 1682)\n",
      "<class 'numpy.ndarray'>\n",
      "[[1.         0.         0.         ... 0.         0.57735027 0.        ]\n",
      " [0.         1.         0.57735027 ... 0.         0.         0.        ]\n",
      " [0.         0.57735027 1.         ... 0.         0.         0.        ]\n",
      " ...\n",
      " [0.         0.         0.         ... 1.         0.         0.70710678]\n",
      " [0.57735027 0.         0.         ... 0.         1.         0.        ]\n",
      " [0.         0.         0.         ... 0.70710678 0.         1.        ]]\n"
     ]
    }
   ],
   "source": [
    "data = movielens.load_feedback()\n",
    "# Cargar la información de las películas desde el archivo 'u.item'\n",
    "\n",
    "\n",
    "file_path = \"datasets/ml-100k/u.data\"\n",
    "utility = pd.read_csv(file_path, sep='\\t', header=None, encoding='latin-1')\n",
    "utility.columns =['user_id', 'item_id', 'rating', 'timestamp']\n",
    "\"\"\" data_colums = ['user_id', 'item_id', 'rating']\n",
    "data = utility[data_colums]\n",
    "reader = cornac.data.Reader()\n",
    "data =  \"\"\"\n",
    "\n",
    "file_path  = \"datasets/ml-100k/u.item\"\n",
    "movies = pd.read_csv(file_path, sep='|', header=None, encoding='latin-1')\n",
    "\n",
    "movies.columns = ['movie_id', 'title', 'release_date', 'video_release_date', 'IMDb_URL', 'unknown', 'Action', 'Adventure', 'Animation', 'Children', 'Comedy', 'Crime', 'Documentary', 'Drama', 'Fantasy', 'Film-Noir', 'Horror', 'Musical', 'Mystery', 'Romance', 'Sci-Fi', 'Thriller', 'War', 'Western']\n",
    "\n",
    "genre_columns = ['unknown', 'Action', 'Adventure', 'Animation', 'Children', 'Comedy', 'Crime', 'Documentary', 'Drama', 'Fantasy', 'Film-Noir', 'Horror', 'Musical', 'Mystery', 'Romance', 'Sci-Fi', 'Thriller', 'War', 'Western']\n",
    "\n",
    "\n",
    "movie_genres = movies[genre_columns]\n",
    "movie_similarities = cosine_similarity(movie_genres, movie_genres)\n",
    "print(f\"Dimensions of our genres cosine similarity matrix: {movie_similarities.shape}\")\n",
    "\n",
    "print(type(movie_similarities))\n",
    "print(movie_similarities)"
   ]
  },
  {
   "cell_type": "code",
   "execution_count": 15,
   "metadata": {},
   "outputs": [],
   "source": [
    "sim_movies = {}\n",
    "for idx in range(len(movie_similarities)):\n",
    "    sim_scores = list(enumerate(movie_similarities[idx]))\n",
    "    sim_scores = sorted(sim_scores, key=lambda x: x[1], reverse=True)\n",
    "    sim_movies[idx] = sim_scores"
   ]
  },
  {
   "cell_type": "code",
   "execution_count": 16,
   "metadata": {},
   "outputs": [],
   "source": [
    "def last_movie(user_id, trainset):\n",
    "    movies_watched = []\n",
    "    for row in trainset:\n",
    "        if row['user_id'] == user_id:\n",
    "            movies_watched.append((row['item_id'], row['timestamp']))\n",
    "    \n",
    "    movies_watched.sort(key=lambda x :x[1])\n",
    "    return movies_watched[-1][0]"
   ]
  },
  {
   "cell_type": "markdown",
   "metadata": {},
   "source": [
    "Crear modelos propios"
   ]
  },
  {
   "cell_type": "code",
   "execution_count": 17,
   "metadata": {},
   "outputs": [],
   "source": [
    "class Hybrid(Recommender):\n",
    "    def __init__(self, models, weights, name=\"Hybrid\"):\n",
    "        super().__init__(name=name)\n",
    "        self.models = models\n",
    "        self.weights = weights\n",
    "\n",
    "    def fit(self, train_set, eval_set=None):\n",
    "        super().fit(train_set,eval_set)\n",
    "        for m in self.models:\n",
    "            m.fit(train_set, eval_set)\n",
    "\n",
    "    def score(self, user_idx, item_idx=None):\n",
    "        ponderated_sum = 0\n",
    "        # if each weight is 1/len(weights)then the score is the average  \n",
    "        for idx in range(len(self.models)):\n",
    "            ponderated_sum += self.models[idx].score(user_idx, item_idx)*self.weights[idx]\n",
    "\n",
    "        return ponderated_sum/sum(self.weights)\n",
    "\n",
    "class DHybrid(Hybrid):\n",
    "    def __init__(self, models, weights, name=\"Hybrid\"):\n",
    "        super().__init__(models, weights, name)\n",
    "        \n",
    "    def fit(self, train_set, eval_set):\n",
    "        print('Fit')\n",
    "        super().fit(train_set, eval_set)\n",
    "        \n",
    "    def score(self, user_idx, item_idx=None):\n",
    "        return super().score(user_idx, item_idx)\n",
    "    \n",
    "    def recommend(self, user_id, k=-1, remove_seen=False, train_set=None, n = 3):\n",
    "        print('recommend')\n",
    "        recommendations = super().recommend(user_id, k, remove_seen, train_set)\n",
    "        idx = last_movie(user_id, train_set)\n",
    "        sim_scores = sim_movies[idx]\n",
    "        similar_movies = [i[0] for i in sim_scores[:5]]\n",
    "        return recommendations.extend(similar_movies)\n",
    "    "
   ]
  },
  {
   "cell_type": "markdown",
   "metadata": {},
   "source": [
    "Definir el método de evaluación"
   ]
  },
  {
   "cell_type": "code",
   "execution_count": 18,
   "metadata": {},
   "outputs": [
    {
     "name": "stdout",
     "output_type": "stream",
     "text": [
      "rating_threshold = 4.0\n",
      "exclude_unknowns = True\n",
      "---\n",
      "Training data:\n",
      "Number of users = 943\n",
      "Number of items = 1652\n",
      "Number of ratings = 80000\n",
      "Max rating = 5.0\n",
      "Min rating = 1.0\n",
      "Global mean = 3.5\n",
      "---\n",
      "Test data:\n",
      "Number of users = 943\n",
      "Number of items = 1652\n",
      "Number of ratings = 19964\n",
      "Number of unknown users = 0\n",
      "Number of unknown items = 0\n",
      "---\n",
      "Total users = 943\n",
      "Total items = 1652\n"
     ]
    }
   ],
   "source": [
    "ratio_split = RatioSplit(data=data, test_size=0.2, rating_threshold=4.0, exclude_unknowns=True, verbose=True)"
   ]
  },
  {
   "cell_type": "markdown",
   "metadata": {},
   "source": [
    "Definir los modelos a emplear"
   ]
  },
  {
   "cell_type": "code",
   "execution_count": 19,
   "metadata": {},
   "outputs": [],
   "source": [
    "mf = MF(k=10, max_iter=25, learning_rate=0.01, lambda_reg=0.02)\n",
    "svd = cornac.models.SVD()\n",
    "knn = ItemKNN(k=20, similarity='cosine', name='ItemKNN')\n",
    "bpr = cornac.models.BPR(k=10, max_iter=25, learning_rate=0.01, lambda_reg=0.02)\n",
    "hybrid = DHybrid([svd, bpr, knn], (6,3,1))"
   ]
  },
  {
   "cell_type": "markdown",
   "metadata": {},
   "source": [
    "Definir las metricas a utilizar"
   ]
  },
  {
   "cell_type": "code",
   "execution_count": 20,
   "metadata": {},
   "outputs": [],
   "source": [
    "metrics = [MAE(), RMSE(), Recall(10), Precision(10)]"
   ]
  },
  {
   "cell_type": "markdown",
   "metadata": {},
   "source": [
    "Definir el experimento\n"
   ]
  },
  {
   "cell_type": "code",
   "execution_count": 21,
   "metadata": {},
   "outputs": [],
   "source": [
    "experiment = cornac.Experiment(eval_method=ratio_split, models=[mf, bpr, svd, knn, hybrid], metrics=metrics)"
   ]
  },
  {
   "cell_type": "markdown",
   "metadata": {},
   "source": [
    "Ejecutar el experimento"
   ]
  },
  {
   "cell_type": "code",
   "execution_count": 22,
   "metadata": {},
   "outputs": [
    {
     "name": "stdout",
     "output_type": "stream",
     "text": [
      "\n",
      "[MF] Training started!\n",
      "[MF] Training started!\n",
      "\n",
      "[MF] Evaluation started!\n"
     ]
    },
    {
     "data": {
      "application/vnd.jupyter.widget-view+json": {
       "model_id": "3c160ade8cc449618d07503267555b66",
       "version_major": 2,
       "version_minor": 0
      },
      "text/plain": [
       "Rating:   0%|          | 0/19964 [00:00<?, ?it/s]"
      ]
     },
     "metadata": {},
     "output_type": "display_data"
    },
    {
     "data": {
      "application/vnd.jupyter.widget-view+json": {
       "model_id": "49d4be29d03d40e8b53060f8ac33a988",
       "version_major": 2,
       "version_minor": 0
      },
      "text/plain": [
       "Ranking:   0%|          | 0/943 [00:00<?, ?it/s]"
       "Ranking:   0%|          | 0/943 [00:00<?, ?it/s]"
      ]
     },
     "metadata": {},
     "output_type": "display_data"
    },
    {
     "name": "stdout",
     "output_type": "stream",
     "text": [
      "\n",
      "[BPR] Training started!\n",
      "\n",
      "[BPR] Evaluation started!\n"
     ]
    },
    {
     "data": {
      "application/vnd.jupyter.widget-view+json": {
       "model_id": "d6b3d88be92f4382a3e052e4f10df86f",
       "version_major": 2,
       "version_minor": 0
      },
      "text/plain": [
       "Rating:   0%|          | 0/19964 [00:00<?, ?it/s]"
      ]
     },
     "metadata": {},
     "output_type": "display_data"
    },
    {
     "data": {
      "application/vnd.jupyter.widget-view+json": {
       "model_id": "c432307d56be4a308a5f3d191159dcb8",
       "version_major": 2,
       "version_minor": 0
      },
      "text/plain": [
       "Ranking:   0%|          | 0/943 [00:00<?, ?it/s]"
       "Ranking:   0%|          | 0/943 [00:00<?, ?it/s]"
      ]
     },
     "metadata": {},
     "output_type": "display_data"
    },
    {
     "name": "stdout",
     "output_type": "stream",
     "text": [
      "\n",
      "[SVD] Training started!\n",
      "\n",
      "[SVD] Evaluation started!\n"
     ]
    },
    {
     "data": {
      "application/vnd.jupyter.widget-view+json": {
       "model_id": "90ff6331f93044dba68346ba91b71e3f",
       "version_major": 2,
       "version_minor": 0
      },
      "text/plain": [
       "Rating:   0%|          | 0/19964 [00:00<?, ?it/s]"
      ]
     },
     "metadata": {},
     "output_type": "display_data"
    },
    {
     "data": {
      "application/vnd.jupyter.widget-view+json": {
       "model_id": "87b2f8bbbd0a478b811699002ca926ec",
       "version_major": 2,
       "version_minor": 0
      },
      "text/plain": [
       "Ranking:   0%|          | 0/943 [00:00<?, ?it/s]"
       "Ranking:   0%|          | 0/943 [00:00<?, ?it/s]"
      ]
     },
     "metadata": {},
     "output_type": "display_data"
    },
    {
     "name": "stdout",
     "output_type": "stream",
     "text": [
      "\n",
      "[ItemKNN] Training started!\n"
     ]
    },
    {
     "data": {
      "application/vnd.jupyter.widget-view+json": {
       "model_id": "b4fbe0dddcf34fd1b5808e528bfde327",
       "version_major": 2,
       "version_minor": 0
      },
      "text/plain": [
       "  0%|          | 0/1652 [00:00<?, ?it/s]"
      ]
     },
     "metadata": {},
     "output_type": "display_data"
    },
    {
     "name": "stdout",
     "output_type": "stream",
     "text": [
      "\n",
      "[ItemKNN] Evaluation started!\n"
     ]
    },
    {
     "data": {
      "application/vnd.jupyter.widget-view+json": {
       "model_id": "f0b17a0467ad4b8485e2efd7553bbfc9",
       "version_major": 2,
       "version_minor": 0
      },
      "text/plain": [
       "Rating:   0%|          | 0/19964 [00:00<?, ?it/s]"
      ]
     },
     "metadata": {},
     "output_type": "display_data"
    },
    {
     "data": {
      "application/vnd.jupyter.widget-view+json": {
       "model_id": "70d1686e139f471e946439ccac2e3f68",
       "version_major": 2,
       "version_minor": 0
      },
      "text/plain": [
       "Ranking:   0%|          | 0/943 [00:00<?, ?it/s]"
       "Ranking:   0%|          | 0/943 [00:00<?, ?it/s]"
      ]
     },
     "metadata": {},
     "output_type": "display_data"
    },
    {
     "name": "stdout",
     "output_type": "stream",
     "text": [
      "\n",
      "[Hybrid] Training started!\n",
      "Fit\n"
     ]
    },
    {
     "data": {
      "application/vnd.jupyter.widget-view+json": {
       "model_id": "acecbe81abe74ac6ab640cd498908e4a",
       "version_major": 2,
       "version_minor": 0
      },
      "text/plain": [
       "  0%|          | 0/1652 [00:00<?, ?it/s]"
      ]
     },
     "metadata": {},
     "output_type": "display_data"
    },
    {
     "name": "stdout",
     "output_type": "stream",
     "text": [
      "\n",
      "[Hybrid] Evaluation started!\n"
     ]
    },
    {
     "data": {
      "application/vnd.jupyter.widget-view+json": {
       "model_id": "5f8732cdf5f7482d9bf55e09c35776eb",
       "version_major": 2,
       "version_minor": 0
      },
      "text/plain": [
       "Rating:   0%|          | 0/19964 [00:00<?, ?it/s]"
      ]
     },
     "metadata": {},
     "output_type": "display_data"
    },
    {
     "data": {
      "application/vnd.jupyter.widget-view+json": {
       "model_id": "6462bfc0390c4f01bc6351e66d13dcf0",
       "version_major": 2,
       "version_minor": 0
      },
      "text/plain": [
       "Ranking:   0%|          | 0/943 [00:00<?, ?it/s]"
       "Ranking:   0%|          | 0/943 [00:00<?, ?it/s]"
      ]
     },
     "metadata": {},
     "output_type": "display_data"
    },
    {
     "name": "stdout",
     "output_type": "stream",
     "text": [
      "\n",
      "TEST:\n",
      "...\n",
      "        |    MAE |   RMSE | Precision@10 | Recall@10 | Train (s) | Test (s)\n",
      "------- + ------ + ------ + ------------ + --------- + --------- + --------\n",
      "MF      | 0.7510 | 0.9111 |       0.0731 |    0.0485 |    0.0763 |   1.4944\n",
      "BPR     | 2.1588 | 2.3595 |       0.1102 |    0.1097 |    0.5150 |   1.2716\n",
      "SVD     | 0.7573 | 0.9173 |       0.0638 |    0.0443 |    0.0299 |   1.0363\n",
      "ItemKNN | 0.8271 | 1.0028 |       0.0272 |    0.0156 |    0.1434 |   5.5948\n",
      "Hybrid  | 0.9828 | 1.1464 |       0.1598 |    0.1343 |    0.2705 |   7.7235\n",
      "\n"
     ]
    }
   ],
   "source": [
    "experiment.run()"
   ]
  },
  {
   "cell_type": "markdown",
   "metadata": {},
   "source": [
    "Extraer los resultados de las métricas"
   ]
  },
  {
   "cell_type": "code",
   "execution_count": 23,
   "metadata": {},
   "outputs": [],
   "source": [
    "results = experiment.result\n",
    "mean_mae = results[0].metric_avg_results['MAE']\n",
    "mean_rmse = results[0].metric_avg_results['RMSE']\n",
    "mean_precision = results[0].metric_avg_results['Precision@10']\n",
    "mf_mae = results[1].metric_avg_results['MAE']\n",
    "mf_rmse = results[1].metric_avg_results['RMSE']\n",
    "mf_precision = results[1].metric_avg_results['Precision@10']\n",
    "bpr_mae = results[2].metric_avg_results['MAE']\n",
    "bpr_rmse = results[2].metric_avg_results['RMSE']\n",
    "bpr_precision = results[2].metric_avg_results['Precision@10']\n",
    "svd_mae = results[3].metric_avg_results['MAE']\n",
    "svd_rmse = results[3].metric_avg_results['RMSE']\n",
    "svd_precision = results[3].metric_avg_results['Precision@10']\n",
    "knn_mae = results[4].metric_avg_results['MAE']\n",
    "knn_rmse = results[4].metric_avg_results['RMSE']\n",
    "knn_precision = results[4].metric_avg_results['Precision@10']"
   ]
  },
  {
   "cell_type": "markdown",
   "metadata": {},
   "source": [
    "Crear un gráfico de barras para mostrar los resultados"
   ]
  },
  {
   "cell_type": "code",
   "execution_count": 24,
   "metadata": {},
   "outputs": [
    {
     "data": {
      "image/png": "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",
      "text/plain": [
       "<Figure size 1800x600 with 1 Axes>"
      ]
     },
     "metadata": {},
     "output_type": "display_data"
    }
   ],
   "source": [
    "metrics_names = ['MF_MAE', 'MF_RMSE', 'MF_Pr', 'BPR_MAE', 'BPR_RMSE', 'BPR_Pr', 'MEAN_MAE', 'MEAN_RMSE', 'MEAN_Pr', 'SVD_MAE', 'SVD_RMSE', 'SVD_Pr', 'KNN_MAE', 'KNN_RMSE', 'KNN_Pr']\n",
    "values = [mf_mae, mf_rmse, mf_precision, bpr_mae, bpr_rmse, bpr_precision, mean_mae, mean_rmse, mean_precision, svd_mae, svd_rmse, svd_precision, knn_mae, knn_rmse, knn_precision] \n",
    "\n",
    "plt.figure(figsize=(18, 6))\n",
    "plt.bar(metrics_names, values, color=['blue', 'purple', 'red', 'blue', 'purple', 'red', 'blue', 'purple', 'red', 'blue', 'purple', 'red', 'blue', 'purple', 'red'])\n",
    "plt.xlabel('Métricas')\n",
    "plt.ylabel('Valores')\n",
    "plt.title('Resultados de las Métricas del Sistema de Recomendación')\n",
    "plt.show()\n"
   ]
  }
 ],
 "metadata": {
  "kernelspec": {
   "display_name": "Python 3",
   "language": "python",
   "name": "python3"
  },
  "language_info": {
   "codemirror_mode": {
    "name": "ipython",
    "version": 3
   },
   "file_extension": ".py",
   "mimetype": "text/x-python",
   "name": "python",
   "nbconvert_exporter": "python",
   "pygments_lexer": "ipython3",
   "version": "3.11.6"
  }
 },
 "nbformat": 4,
 "nbformat_minor": 2
}
