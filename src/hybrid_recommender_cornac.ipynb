{
 "cells": [
  {
   "cell_type": "markdown",
   "metadata": {},
   "source": [
    "Importamos las librerías necesarias"
   ]
  },
  {
   "cell_type": "code",
   "metadata": {
    "ExecuteTime": {
     "end_time": "2024-09-12T19:56:40.842697Z",
     "start_time": "2024-09-12T19:56:40.837661Z"
    }
   },
   "source": [
    "import matplotlib.pyplot as plt\n",
    "import cornac\n",
    "import pandas as pd\n",
    "from cornac.eval_methods import RatioSplit\n",
    "from cornac.metrics import Recall, Precision, MAE, RMSE\n",
    "from cornac.models import ItemKNN, BPR, MF\n",
    "from sklearn.metrics.pairwise import cosine_similarity"
   ],
   "outputs": [],
   "execution_count": 96
  },
  {
   "cell_type": "markdown",
   "metadata": {},
   "source": [
    "Cargar el dataset de MovieLens 100K"
   ]
  },
  {
   "cell_type": "code",
   "metadata": {
    "ExecuteTime": {
     "end_time": "2024-09-12T19:56:42.175877Z",
     "start_time": "2024-09-12T19:56:41.005026Z"
    }
   },
   "source": [
    "file_path = 'datasets/ml-100k/u.data'\n",
    "dataframe = pd.read_csv(file_path, sep='|', header=None, encoding='latin-1')\n",
    "dataset = cornac.datasets.movielens.load_feedback(fmt='UIRT')\n",
    "\n",
    "file_path = 'datasets/ml-100k/u.item'\n",
    "movies = pd.read_csv(file_path, sep='|', header=None, encoding='latin-1')\n",
    "\n",
    "movies.columns = ['movie_id', 'title', 'release_date', 'video_release_date', 'IMDb_URL', 'unknown', 'Action', 'Adventure', 'Animation', 'Children', 'Comedy', 'Crime', 'Documentary', 'Drama', 'Fantasy', 'Film-Noir', 'Horror', 'Musical', 'Mystery', 'Romance', 'Sci-Fi', 'Thriller', 'War', 'Western']\n",
    "\n",
    "genre_columns = ['unknown', 'Action', 'Adventure', 'Animation', 'Children', 'Comedy', 'Crime', 'Documentary', 'Drama', 'Fantasy', 'Film-Noir', 'Horror', 'Musical', 'Mystery', 'Romance', 'Sci-Fi', 'Thriller', 'War', 'Western']\n",
    "\n",
    "movie_genres = movies[genre_columns]\n",
    "movie_similarities = cosine_similarity(movie_genres, movie_genres)\n",
    "print(f\"Dimensions of our genres cosine similarity matrix: {movie_similarities.shape}\")"
   ],
   "outputs": [
    {
     "name": "stdout",
     "output_type": "stream",
     "text": [
      "Dimensions of our genres cosine similarity matrix: (1682, 1682)\n"
     ]
    }
   ],
   "execution_count": 97
  },
  {
   "cell_type": "markdown",
   "metadata": {},
   "source": [
    "Exploración de datos"
   ]
  },
  {
   "cell_type": "code",
   "metadata": {
    "ExecuteTime": {
     "end_time": "2024-09-12T19:56:42.224861Z",
     "start_time": "2024-09-12T19:56:42.183385Z"
    }
   },
   "source": [
    "file_path = 'datasets/ml-100k/u.info'\n",
    "info = pd.read_csv(file_path, sep=' ', header=None, encoding='latin-1')\n",
    "info.columns = ['data', 'info']\n",
    "print(info)"
   ],
   "outputs": [
    {
     "name": "stdout",
     "output_type": "stream",
     "text": [
      "     data     info\n",
      "0     943    users\n",
      "1    1682    items\n",
      "2  100000  ratings\n"
     ]
    }
   ],
   "execution_count": 98
  },
  {
   "cell_type": "code",
   "metadata": {
    "ExecuteTime": {
     "end_time": "2024-09-12T19:56:42.252189Z",
     "start_time": "2024-09-12T19:56:42.231953Z"
    }
   },
   "source": [
    "sparsity = info['data'][2]/(info['data'][0]*info['data'][1])\n",
    "print(f\"Matrix sparsity: {round(sparsity*100,2)}%\")"
   ],
   "outputs": [
    {
     "name": "stdout",
     "output_type": "stream",
     "text": [
      "Matrix sparsity: 6.3%\n"
     ]
    }
   ],
   "execution_count": 99
  },
  {
   "cell_type": "code",
   "metadata": {
    "ExecuteTime": {
     "end_time": "2024-09-12T19:56:46.413701Z",
     "start_time": "2024-09-12T19:56:42.260200Z"
    }
   },
   "source": [
    "# Diccionario con las similitudes entre peliculas ordenadas ascendentemente\n",
    "sim_movies = {}\n",
    "for idx in range(len(movie_similarities)):\n",
    "    sim_scores = list(enumerate(movie_similarities[idx]))\n",
    "    sim_scores = sorted(sim_scores, key=lambda x: x[1])\n",
    "    sim_movies[idx] = sim_scores"
   ],
   "outputs": [],
   "execution_count": 100
  },
  {
   "cell_type": "markdown",
   "metadata": {},
   "source": [
    "Crear modelos propios"
   ]
  },
  {
   "cell_type": "code",
   "metadata": {
    "ExecuteTime": {
     "end_time": "2024-09-12T19:56:46.448395Z",
     "start_time": "2024-09-12T19:56:46.423691Z"
    }
   },
   "source": [
    "class Hybrid(cornac.models.Recommender):\n",
    "    def __init__(self, models, weights, name=\"Hybrid\"):\n",
    "        super().__init__(name=name)\n",
    "        self.models = models\n",
    "        self.weights = weights\n",
    "\n",
    "    def fit(self, train_set, eval_set=None):\n",
    "        super().fit(train_set,eval_set)\n",
    "        for m in self.models:\n",
    "            m.fit(train_set, eval_set)\n",
    "\n",
    "    def score(self, user_idx, item_idx=None):\n",
    "        ponderated_sum = 0\n",
    "        # if each weight is 1/len(weights)then the score is the average  \n",
    "        for idx in range(len(self.models)):\n",
    "            ponderated_sum += self.models[idx].score(user_idx, item_idx)*self.weights[idx]\n",
    "\n",
    "        return ponderated_sum/sum(self.weights)\n",
    "\n",
    "class DHybrid(Hybrid):\n",
    "    def __init__(self, models, weights, name=\"Hybrid\", flag=False):\n",
    "        super().__init__(models, weights, name)\n",
    "        self.flag = flag\n",
    "        \n",
    "    def fit(self, train_set, eval_set=None):\n",
    "        super().fit(train_set, eval_set)\n",
    "        \n",
    "    def score(self, user_idx, item_idx=None):\n",
    "        return super().score(user_idx, item_idx)\n",
    "    \n",
    "    def recommend(self, user_id, k=-1, remove_seen=False, train_set=None, n=3):\n",
    "        recommendations = super().recommend(user_id, k, remove_seen, train_set)\n",
    "        if self.flag:\n",
    "            for idx in range(n):\n",
    "                recommendations[-idx-1] = sim_movies[int(recommendations[idx])][0][0]\n",
    "            # sim_scores = sim_movies[int(recommendations[0])]\n",
    "            # similar_movies = [i[0] for i in sim_scores[:n]]\n",
    "            # return recommendations + similar_movies\n",
    "        return recommendations\n",
    "    \n",
    "    def novelty(self, user_id, k, item_popularity):\n",
    "        recommendations = self.recommend(user_id, k)\n",
    "        return novelty(recommendations, item_popularity)\n",
    "\n",
    "    "
   ],
   "outputs": [],
   "execution_count": 101
  },
  {
   "cell_type": "markdown",
   "metadata": {},
   "source": [
    "Definir el método de evaluación"
   ]
  },
  {
   "cell_type": "code",
   "metadata": {
    "ExecuteTime": {
     "end_time": "2024-09-12T19:56:47.957375Z",
     "start_time": "2024-09-12T19:56:46.450916Z"
    }
   },
   "source": [
    "ratio_split = RatioSplit(data=dataset, test_size=0.2, rating_threshold=4.0, exclude_unknowns=True, verbose=True)"
   ],
   "outputs": [
    {
     "name": "stdout",
     "output_type": "stream",
     "text": [
      "rating_threshold = 4.0\n",
      "exclude_unknowns = True\n",
      "---\n",
      "Training data:\n",
      "Number of users = 943\n",
      "Number of items = 1652\n",
      "Number of ratings = 80000\n",
      "Max rating = 5.0\n",
      "Min rating = 1.0\n",
      "Global mean = 3.5\n",
      "---\n",
      "Test data:\n",
      "Number of users = 943\n",
      "Number of items = 1652\n",
      "Number of ratings = 19965\n",
      "Number of unknown users = 0\n",
      "Number of unknown items = 0\n",
      "---\n",
      "Total users = 943\n",
      "Total items = 1652\n"
     ]
    }
   ],
   "execution_count": 102
  },
  {
   "cell_type": "markdown",
   "metadata": {},
   "source": [
    "Definir los modelos a emplear"
   ]
  },
  {
   "cell_type": "code",
   "metadata": {
    "ExecuteTime": {
     "end_time": "2024-09-12T19:56:48.013854Z",
     "start_time": "2024-09-12T19:56:47.968736Z"
    }
   },
   "source": [
    "mf = MF(k=10, max_iter=25, learning_rate=0.01, lambda_reg=0.02)\n",
    "svd = cornac.models.SVD()\n",
    "knn = ItemKNN(k=20, similarity='cosine', name='ItemKNN')\n",
    "bpr = cornac.models.BPR(k=10, max_iter=25, learning_rate=0.01, lambda_reg=0.02)\n",
    "hybrid = DHybrid([svd, bpr, knn], (4, 1, 6), flag=True)\n",
    "\n",
    "models = [mf, bpr, svd, knn, hybrid]"
   ],
   "outputs": [],
   "execution_count": 103
  },
  {
   "cell_type": "markdown",
   "metadata": {},
   "source": [
    "Definir las metricas a utilizar"
   ]
  },
  {
   "cell_type": "code",
   "metadata": {
    "ExecuteTime": {
     "end_time": "2024-09-12T19:56:48.052412Z",
     "start_time": "2024-09-12T19:56:48.021964Z"
    }
   },
   "source": "metrics = [MAE(), RMSE(), Recall(10), Precision(10)]",
   "outputs": [],
   "execution_count": 104
  },
  {
   "cell_type": "markdown",
   "metadata": {},
   "source": [
    "Definir el experimento\n"
   ]
  },
  {
   "cell_type": "code",
   "metadata": {
    "ExecuteTime": {
     "end_time": "2024-09-12T19:56:48.112354Z",
     "start_time": "2024-09-12T19:56:48.059881Z"
    }
   },
   "source": [
    "experiment = cornac.Experiment(eval_method=ratio_split, models=models, metrics=metrics)"
   ],
   "outputs": [],
   "execution_count": 105
  },
  {
   "cell_type": "markdown",
   "metadata": {},
   "source": [
    "Ejecutar el experimento"
   ]
  },
  {
   "cell_type": "code",
   "metadata": {
    "ExecuteTime": {
     "end_time": "2024-09-12T19:58:19.339067Z",
     "start_time": "2024-09-12T19:56:48.137773Z"
    }
   },
   "source": [
    "experiment.run()"
   ],
   "outputs": [
    {
     "name": "stdout",
     "output_type": "stream",
     "text": [
      "\n",
      "[MF] Training started!\n",
      "\n",
      "[MF] Evaluation started!\n"
     ]
    },
    {
     "data": {
      "text/plain": [
       "Rating:   0%|          | 0/19965 [00:00<?, ?it/s]"
      ],
      "application/vnd.jupyter.widget-view+json": {
       "version_major": 2,
       "version_minor": 0,
       "model_id": "a410519ea97d481bb1682837fbee6de3"
      }
     },
     "metadata": {},
     "output_type": "display_data"
    },
    {
     "data": {
      "text/plain": [
       "Ranking:   0%|          | 0/943 [00:00<?, ?it/s]"
      ],
      "application/vnd.jupyter.widget-view+json": {
       "version_major": 2,
       "version_minor": 0,
       "model_id": "314b0518609e426086e568c73a9e5f56"
      }
     },
     "metadata": {},
     "output_type": "display_data"
    },
    {
     "name": "stdout",
     "output_type": "stream",
     "text": [
      "\n",
      "[BPR] Training started!\n",
      "\n",
      "[BPR] Evaluation started!\n"
     ]
    },
    {
     "data": {
      "text/plain": [
       "Rating:   0%|          | 0/19965 [00:00<?, ?it/s]"
      ],
      "application/vnd.jupyter.widget-view+json": {
       "version_major": 2,
       "version_minor": 0,
       "model_id": "90dfa714779b49d9b43d916ca0e7ef4d"
      }
     },
     "metadata": {},
     "output_type": "display_data"
    },
    {
     "data": {
      "text/plain": [
       "Ranking:   0%|          | 0/943 [00:00<?, ?it/s]"
      ],
      "application/vnd.jupyter.widget-view+json": {
       "version_major": 2,
       "version_minor": 0,
       "model_id": "4be6262bdada4021a2ecc60fb1d4427b"
      }
     },
     "metadata": {},
     "output_type": "display_data"
    },
    {
     "name": "stdout",
     "output_type": "stream",
     "text": [
      "\n",
      "[SVD] Training started!\n",
      "\n",
      "[SVD] Evaluation started!\n"
     ]
    },
    {
     "data": {
      "text/plain": [
       "Rating:   0%|          | 0/19965 [00:00<?, ?it/s]"
      ],
      "application/vnd.jupyter.widget-view+json": {
       "version_major": 2,
       "version_minor": 0,
       "model_id": "b4838ce44e464d399c9f5c4c69ad31c8"
      }
     },
     "metadata": {},
     "output_type": "display_data"
    },
    {
     "data": {
      "text/plain": [
       "Ranking:   0%|          | 0/943 [00:00<?, ?it/s]"
      ],
      "application/vnd.jupyter.widget-view+json": {
       "version_major": 2,
       "version_minor": 0,
       "model_id": "066d6ea990714faabc29b687a4a6eee2"
      }
     },
     "metadata": {},
     "output_type": "display_data"
    },
    {
     "name": "stdout",
     "output_type": "stream",
     "text": [
      "\n",
      "[ItemKNN] Training started!\n"
     ]
    },
    {
     "data": {
      "text/plain": [
       "  0%|          | 0/1652 [00:00<?, ?it/s]"
      ],
      "application/vnd.jupyter.widget-view+json": {
       "version_major": 2,
       "version_minor": 0,
       "model_id": "8e0cc390d0a84f14870335028bd21a0b"
      }
     },
     "metadata": {},
     "output_type": "display_data"
    },
    {
     "name": "stdout",
     "output_type": "stream",
     "text": [
      "\n",
      "[ItemKNN] Evaluation started!\n"
     ]
    },
    {
     "data": {
      "text/plain": [
       "Rating:   0%|          | 0/19965 [00:00<?, ?it/s]"
      ],
      "application/vnd.jupyter.widget-view+json": {
       "version_major": 2,
       "version_minor": 0,
       "model_id": "8956d2f8ca564d73a72920e63c7497c8"
      }
     },
     "metadata": {},
     "output_type": "display_data"
    },
    {
     "data": {
      "text/plain": [
       "Ranking:   0%|          | 0/943 [00:00<?, ?it/s]"
      ],
      "application/vnd.jupyter.widget-view+json": {
       "version_major": 2,
       "version_minor": 0,
       "model_id": "d60e3d4b30a440398e7fb479a94a35f5"
      }
     },
     "metadata": {},
     "output_type": "display_data"
    },
    {
     "name": "stdout",
     "output_type": "stream",
     "text": [
      "\n",
      "[Hybrid] Training started!\n"
     ]
    },
    {
     "name": "stderr",
     "output_type": "stream",
     "text": [
      "/usr/local/lib/python3.12/dist-packages/cornac/models/recommender.py:322: UserWarning: Model is already fitted. Re-fitting will overwrite the previous model.\n",
      "  warnings.warn(\n"
     ]
    },
    {
     "data": {
      "text/plain": [
       "  0%|          | 0/1652 [00:00<?, ?it/s]"
      ],
      "application/vnd.jupyter.widget-view+json": {
       "version_major": 2,
       "version_minor": 0,
       "model_id": "eb3d85e6721f4def9c0ee910cb5d0dac"
      }
     },
     "metadata": {},
     "output_type": "display_data"
    },
    {
     "name": "stdout",
     "output_type": "stream",
     "text": [
      "\n",
      "[Hybrid] Evaluation started!\n"
     ]
    },
    {
     "data": {
      "text/plain": [
       "Rating:   0%|          | 0/19965 [00:00<?, ?it/s]"
      ],
      "application/vnd.jupyter.widget-view+json": {
       "version_major": 2,
       "version_minor": 0,
       "model_id": "102391bae0a54130ab8e50221cb78ed4"
      }
     },
     "metadata": {},
     "output_type": "display_data"
    },
    {
     "data": {
      "text/plain": [
       "Ranking:   0%|          | 0/943 [00:00<?, ?it/s]"
      ],
      "application/vnd.jupyter.widget-view+json": {
       "version_major": 2,
       "version_minor": 0,
       "model_id": "36d5133e466847bc8db8533e5ce89755"
      }
     },
     "metadata": {},
     "output_type": "display_data"
    },
    {
     "name": "stdout",
     "output_type": "stream",
     "text": [
      "\n",
      "TEST:\n",
      "...\n",
      "        |    MAE |   RMSE | Precision@10 | Recall@10 | Train (s) | Test (s)\n",
      "------- + ------ + ------ + ------------ + --------- + --------- + --------\n",
      "MF      | 0.7435 | 0.9023 |       0.0672 |    0.0464 |    0.5940 |   9.0633\n",
      "BPR     | 2.1572 | 2.3603 |       0.1138 |    0.1120 |    0.4082 |   5.6723\n",
      "SVD     | 0.7494 | 0.9084 |       0.0574 |    0.0397 |    0.3600 |   7.6911\n",
      "ItemKNN | 0.8222 | 0.9944 |       0.0305 |    0.0176 |    0.4566 |  26.0046\n",
      "Hybrid  | 0.7968 | 0.9476 |       0.1356 |    0.1042 |    1.8670 |  39.0407\n",
      "\n"
     ]
    }
   ],
   "execution_count": 106
  },
  {
   "cell_type": "markdown",
   "metadata": {},
   "source": [
    "Extraer los resultados de las métricas"
   ]
  },
  {
   "cell_type": "code",
   "metadata": {
    "ExecuteTime": {
     "end_time": "2024-09-12T19:58:19.390562Z",
     "start_time": "2024-09-12T19:58:19.357872Z"
    }
   },
   "source": [
    "results = experiment.result\n",
    "mean_mae = results[0].metric_avg_results['MAE']\n",
    "mean_rmse = results[0].metric_avg_results['RMSE']\n",
    "mean_precision = results[0].metric_avg_results['Precision@10']\n",
    "mf_mae = results[1].metric_avg_results['MAE']\n",
    "mf_rmse = results[1].metric_avg_results['RMSE']\n",
    "mf_precision = results[1].metric_avg_results['Precision@10']\n",
    "bpr_mae = results[2].metric_avg_results['MAE']\n",
    "bpr_rmse = results[2].metric_avg_results['RMSE']\n",
    "bpr_precision = results[2].metric_avg_results['Precision@10']\n",
    "svd_mae = results[3].metric_avg_results['MAE']\n",
    "svd_rmse = results[3].metric_avg_results['RMSE']\n",
    "svd_precision = results[3].metric_avg_results['Precision@10']\n",
    "knn_mae = results[4].metric_avg_results['MAE']\n",
    "knn_rmse = results[4].metric_avg_results['RMSE']\n",
    "knn_precision = results[4].metric_avg_results['Precision@10']"
   ],
   "outputs": [],
   "execution_count": 107
  },
  {
   "cell_type": "markdown",
   "metadata": {},
   "source": [
    "Crear un gráfico de barras para mostrar los resultados"
   ]
  },
  {
   "cell_type": "code",
   "metadata": {
    "ExecuteTime": {
     "end_time": "2024-09-12T19:58:19.934257Z",
     "start_time": "2024-09-12T19:58:19.399647Z"
    }
   },
   "source": [
    "metrics_names = ['MF_MAE', 'MF_RMSE', 'MF_Pr', 'BPR_MAE', 'BPR_RMSE', 'BPR_Pr', 'MEAN_MAE', 'MEAN_RMSE', 'MEAN_Pr', 'SVD_MAE', 'SVD_RMSE', 'SVD_Pr', 'KNN_MAE', 'KNN_RMSE', 'KNN_Pr']\n",
    "values = [mf_mae, mf_rmse, mf_precision, bpr_mae, bpr_rmse, bpr_precision, mean_mae, mean_rmse, mean_precision, svd_mae, svd_rmse, svd_precision, knn_mae, knn_rmse, knn_precision] \n",
    "\n",
    "plt.figure(figsize=(18, 6))\n",
    "plt.bar(metrics_names, values, color=['blue', 'purple', 'red', 'blue', 'purple', 'red', 'blue', 'purple', 'red', 'blue', 'purple', 'red', 'blue', 'purple', 'red'])\n",
    "plt.xlabel('Métricas')\n",
    "plt.ylabel('Valores')\n",
    "plt.title('Resultados de las Métricas del Sistema de Recomendación')\n",
    "plt.show()\n"
   ],
   "outputs": [
    {
     "data": {
      "text/plain": [
       "<Figure size 1800x600 with 1 Axes>"
      ],
      "image/png": "[encoded data removed]"
     },
     "metadata": {},
     "output_type": "display_data"
    }
   ],
   "execution_count": 108
  },
  {
   "cell_type": "markdown",
   "metadata": {},
   "source": [
    "### Diversity Metrics ###"
   ]
  },
  {
   "metadata": {
    "ExecuteTime": {
     "end_time": "2024-09-12T19:58:19.965855Z",
     "start_time": "2024-09-12T19:58:19.944933Z"
    }
   },
   "cell_type": "code",
   "source": [
    "def calculate_item_popularity(dataset):\n",
    "    \"\"\"\n",
    "    Calculate the popularity of each item in the dataset.\n",
    "\n",
    "    Parameters:\n",
    "    dataset (list of tuples): List of user-item interactions, where each tuple is (user_id, item_id, rating).\n",
    "\n",
    "    Returns:\n",
    "    dict: Dictionary with item indices as keys and their popularity (number of interactions) as values.\n",
    "    \"\"\"\n",
    "    item_popularity = {}\n",
    "    for interaction in dataset:\n",
    "        item_id = interaction[1]\n",
    "        if item_id in item_popularity:\n",
    "            item_popularity[item_id] += 1\n",
    "        else:\n",
    "            item_popularity[item_id] = 1\n",
    "    return item_popularity"
   ],
   "outputs": [],
   "execution_count": 109
  },
  {
   "metadata": {},
   "cell_type": "markdown",
   "source": "Novelty for models"
  },
  {
   "metadata": {
    "ExecuteTime": {
     "end_time": "2024-09-12T19:58:19.995068Z",
     "start_time": "2024-09-12T19:58:19.969464Z"
    }
   },
   "cell_type": "code",
   "source": [
    "def novelty(recommendation_list, item_popularity):\n",
    "    \"\"\"\n",
    "    Calculate the novelty of a recommendation list.\n",
    "\n",
    "    Parameters:\n",
    "    recommendation_list (list): List of recommended item indices.\n",
    "    item_popularity (dict): Dictionary with item indices as keys and their popularity as values.\n",
    "\n",
    "    Returns:\n",
    "    float: Novelty score.\n",
    "    \"\"\"\n",
    "    total_novelty = 0.0\n",
    "    for item in recommendation_list:\n",
    "        total_novelty += 1 / (1 + item_popularity.get(item, 0))\n",
    "\n",
    "    return total_novelty / len(recommendation_list)"
   ],
   "outputs": [],
   "execution_count": 110
  },
  {
   "metadata": {},
   "cell_type": "markdown",
   "source": "Calculating novelty for each model"
  },
  {
   "metadata": {},
   "cell_type": "markdown",
   "source": ""
  },
  {
   "cell_type": "code",
   "metadata": {
    "ExecuteTime": {
     "end_time": "2024-09-12T19:58:51.586708Z",
     "start_time": "2024-09-12T19:58:19.999275Z"
    }
   },
   "source": [
    "item_popularity = calculate_item_popularity(dataset)\n",
    "\n",
    "for model in models:\n",
    "    novelty_score = 0\n",
    "    for user_id in range(1, model.total_users):\n",
    "        \n",
    "        recs = model.recommend(user_id=str(user_id), k=10)\n",
    "        \n",
    "        if model.name == 'Hybrid':\n",
    "            novelty_score += model.novelty(str(user_id), 10, item_popularity)\n",
    "        else:\n",
    "            novelty_score += novelty(recs, item_popularity)\n",
    "    avg = novelty_score / info['data'][0]\n",
    "    print(f\"Novelty score average of model {model.name}: {avg}\")"
   ],
   "outputs": [
    {
     "name": "stdout",
     "output_type": "stream",
     "text": [
      "Novelty score average of model MF: 0.020517695877850198\n",
      "Novelty score average of model BPR: 0.0025440517644653004\n",
      "Novelty score average of model SVD: 0.027065020853787713\n",
      "Novelty score average of model ItemKNN: 0.2696052799346532\n",
      "Novelty score average of model Hybrid: 0.32068510723202376\n"
     ]
    }
   ],
   "execution_count": 111
  }
 ],
 "metadata": {
  "kernelspec": {
   "display_name": "Python 3",
   "language": "python",
   "name": "python3"
  },
  "language_info": {
   "codemirror_mode": {
    "name": "ipython",
    "version": 3
   },
   "file_extension": ".py",
   "mimetype": "text/x-python",
   "name": "python",
   "nbconvert_exporter": "python",
   "pygments_lexer": "ipython3",
   "version": "3.12.3"
  }
 },
 "nbformat": 4,
 "nbformat_minor": 2
}
