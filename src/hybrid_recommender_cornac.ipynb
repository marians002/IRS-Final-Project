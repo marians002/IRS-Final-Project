{
 "cells": [
  {
   "cell_type": "markdown",
   "metadata": {},
   "source": [
    "Importamos las librerías necesarias"
   ]
  },
  {
   "cell_type": "code",
   "metadata": {
    "ExecuteTime": {
     "end_time": "2024-09-11T20:38:07.943145Z",
     "start_time": "2024-09-11T20:38:07.927738Z"
    }
   },
   "source": [
    "import matplotlib.pyplot as plt\n",
    "import cornac\n",
    "from cornac.datasets import movielens\n",
    "from cornac.eval_methods import RatioSplit\n",
    "from cornac.metrics import Recall, Precision, MAE, RMSE\n",
    "from cornac.models import ItemKNN, BPR, MF, SVD\n",
    "from cornac.models import Recommender\n",
    "from cornac.eval_methods import RatioSplit"
   ],
   "outputs": [],
   "execution_count": 59
  },
  {
   "cell_type": "markdown",
   "metadata": {},
   "source": [
    "Crear modelos propios"
   ]
  },
  {
   "cell_type": "code",
   "metadata": {
    "ExecuteTime": {
     "end_time": "2024-09-11T20:38:08.390313Z",
     "start_time": "2024-09-11T20:38:08.370375Z"
    }
   },
   "source": [
    "class Hybrid(cornac.models.Recommender):\n",
    "    def __init__(self, models, weights, name=\"Hybrid\"):\n",
    "        super().__init__(name=name)\n",
    "        self.models = models\n",
    "        self.weights = weights\n",
    "\n",
    "    def fit(self, train_set, eval_set=None):\n",
    "        super().fit(train_set,eval_set)\n",
    "        for m in self.models:\n",
    "            m.fit(train_set, eval_set)\n",
    "\n",
    "    def score(self, user_idx, item_idx=None):\n",
    "        ponderated_sum = 0\n",
    "        # if each weight is 1/len(weights) is the average  \n",
    "        for idx in range(len(self.models)):\n",
    "            ponderated_sum += self.models[idx].score(user_idx, item_idx)*self.weights[idx]\n",
    "\n",
    "        return ponderated_sum/sum(self.weights)\n",
    "    \n",
    "    def recommend(self, user_id, k=-1, remove_seen=False, train_set=None):\n",
    "        return super().recommend(user_id, k, remove_seen, train_set)\n",
    "    \n",
    "class KFN(cornac.models.Recommender):\n",
    "    def __init__(self, name=\"KFN\"):\n",
    "        super().__init__(name)\n",
    "        \n",
    "    def fit(self, train_set, val_set=None):\n",
    "        super().fit(train_set, val_set)\n",
    "    def score(self, user_idx, item_idx=None):\n",
    "        return 1\n",
    "    def recommend(self, user_id, k=-1, remove_seen=False, train_set=None):\n",
    "        return super().recommend(user_id, k, remove_seen, train_set)\n",
    "    \n",
    "class DHybrid(Hybrid):\n",
    "    def __init__(self, models, weights, name=\"Hybrid\"):\n",
    "        super().__init__(models, weights, name)\n",
    "        self.kfn = KFN(\"KFN\")\n",
    "        \n",
    "    def fit(self, train_set, eval_set=None):\n",
    "        super().fit(train_set, eval_set)\n",
    "        self.kfn.fit(train_set, eval_set)\n",
    "        \n",
    "    def score(self, user_idx, item_idx=None):\n",
    "        return super().score(user_idx, item_idx)\n",
    "    \n",
    "    def recommend(self, user_id, k=-1, remove_seen=False, train_set=None, n = 3):\n",
    "        recommendations = super().recommend(user_id, k, remove_seen, train_set)\n",
    "        if n < len(recommendations):\n",
    "            recommendations[-n:] = self.kfn.recommend[:n]\n",
    "        return recommendations\n",
    "    "
   ],
   "outputs": [],
   "execution_count": 60
  },
  {
   "cell_type": "markdown",
   "metadata": {},
   "source": [
    "Cargar el dataset de MovieLens 100K"
   ]
  },
  {
   "cell_type": "code",
   "metadata": {
    "ExecuteTime": {
     "end_time": "2024-09-11T20:38:08.796442Z",
     "start_time": "2024-09-11T20:38:08.422229Z"
    }
   },
   "source": "data = movielens.load_feedback()",
   "outputs": [
    {
     "name": "stdout",
     "output_type": "stream",
     "text": [
      "('244', '51', 2.0)\n"
     ]
    }
   ],
   "execution_count": 61
  },
  {
   "cell_type": "markdown",
   "metadata": {},
   "source": [
    "Definir el método de evaluación"
   ]
  },
  {
   "cell_type": "code",
   "metadata": {
    "ExecuteTime": {
     "end_time": "2024-09-11T20:38:09.577122Z",
     "start_time": "2024-09-11T20:38:08.799980Z"
    }
   },
   "source": [
    "ratio_split = RatioSplit(data=data, test_size=0.2, rating_threshold=4.0, exclude_unknowns=True, verbose=True)"
   ],
   "outputs": [
    {
     "name": "stdout",
     "output_type": "stream",
     "text": [
      "rating_threshold = 4.0\n",
      "exclude_unknowns = True\n",
      "---\n",
      "Training data:\n",
      "Number of users = 943\n",
      "Number of items = 1653\n",
      "Number of ratings = 80000\n",
      "Max rating = 5.0\n",
      "Min rating = 1.0\n",
      "Global mean = 3.5\n",
      "---\n",
      "Test data:\n",
      "Number of users = 943\n",
      "Number of items = 1653\n",
      "Number of ratings = 19968\n",
      "Number of unknown users = 0\n",
      "Number of unknown items = 0\n",
      "---\n",
      "Total users = 943\n",
      "Total items = 1653\n"
     ]
    }
   ],
   "execution_count": 62
  },
  {
   "cell_type": "markdown",
   "metadata": {},
   "source": [
    "Definir los modelos a emplear"
   ]
  },
  {
   "cell_type": "code",
   "metadata": {
    "ExecuteTime": {
     "end_time": "2024-09-11T20:38:09.590394Z",
     "start_time": "2024-09-11T20:38:09.580184Z"
    }
   },
   "source": [
    "mf = MF(k=10, max_iter=25, learning_rate=0.01, lambda_reg=0.02)\n",
    "svd = cornac.models.SVD()\n",
    "knn = ItemKNN(k=20, similarity='cosine', name='ItemKNN')\n",
    "bpr = cornac.models.BPR(k=10, max_iter=25, learning_rate=0.01, lambda_reg=0.02)\n",
    "hybrid = DHybrid([svd, bpr, knn], (6,3,1))\n"
   ],
   "outputs": [],
   "execution_count": 63
  },
  {
   "cell_type": "code",
   "metadata": {
    "ExecuteTime": {
     "end_time": "2024-09-11T20:40:57.460651Z",
     "start_time": "2024-09-11T20:40:54.783247Z"
    }
   },
   "source": [
    "dataset = cornac.data.Dataset.from_uir(data)\n",
    "hybrid.fit(dataset)\n",
    "\n",
    "# Get recommendations for a specific user called userx\n",
    "userx = '1'\n",
    "recs = hybrid.recommend(user_id='244', k=3)\n",
    "print(f\"Recommendations for user {userx}: {recs}\")\n"
   ],
   "outputs": [
    {
     "data": {
      "text/plain": [
       "  0%|          | 0/1682 [00:00<?, ?it/s]"
      ],
      "application/vnd.jupyter.widget-view+json": {
       "version_major": 2,
       "version_minor": 0,
       "model_id": "2904db351bc844039180b6c4d6296e94"
      }
     },
     "metadata": {},
     "output_type": "display_data"
    },
    {
     "name": "stdout",
     "output_type": "stream",
     "text": [
      "Recommendations for user 1: ['919', '42']\n"
     ]
    }
   ],
   "execution_count": 73
  },
  {
   "cell_type": "markdown",
   "metadata": {},
   "source": [
    "Definir las metricas a utilizar"
   ]
  },
  {
   "cell_type": "code",
   "metadata": {},
   "source": [
    "metrics = [MAE(), RMSE(), Recall(10), Precision(10)]"
   ],
   "outputs": [],
   "execution_count": null
  },
  {
   "cell_type": "markdown",
   "metadata": {},
   "source": [
    "Definir el experimento\n"
   ]
  },
  {
   "cell_type": "code",
   "metadata": {},
   "source": [
    "experiment = cornac.Experiment(eval_method=ratio_split, models=[mf, bpr, svd, knn, hybrid], metrics=metrics)"
   ],
   "outputs": [],
   "execution_count": null
  },
  {
   "cell_type": "markdown",
   "metadata": {},
   "source": [
    "Ejecutar el experimento"
   ]
  },
  {
   "cell_type": "code",
   "metadata": {},
   "source": [
    "experiment.run()"
   ],
   "outputs": [],
   "execution_count": null
  },
  {
   "cell_type": "markdown",
   "metadata": {},
   "source": [
    "Extraer los resultados de las métricas"
   ]
  },
  {
   "cell_type": "code",
   "metadata": {},
   "source": [
    "results = experiment.result\n",
    "mean_mae = results[0].metric_avg_results['MAE']\n",
    "mean_rmse = results[0].metric_avg_results['RMSE']\n",
    "mean_precision = results[0].metric_avg_results['Precision@10']\n",
    "mf_mae = results[1].metric_avg_results['MAE']\n",
    "mf_rmse = results[1].metric_avg_results['RMSE']\n",
    "mf_precision = results[1].metric_avg_results['Precision@10']\n",
    "bpr_mae = results[2].metric_avg_results['MAE']\n",
    "bpr_rmse = results[2].metric_avg_results['RMSE']\n",
    "bpr_precision = results[2].metric_avg_results['Precision@10']\n",
    "svd_mae = results[3].metric_avg_results['MAE']\n",
    "svd_rmse = results[3].metric_avg_results['RMSE']\n",
    "svd_precision = results[3].metric_avg_results['Precision@10']\n",
    "knn_mae = results[4].metric_avg_results['MAE']\n",
    "knn_rmse = results[4].metric_avg_results['RMSE']\n",
    "knn_precision = results[4].metric_avg_results['Precision@10']"
   ],
   "outputs": [],
   "execution_count": null
  },
  {
   "cell_type": "markdown",
   "metadata": {},
   "source": [
    "Crear un gráfico de barras para mostrar los resultados"
   ]
  },
  {
   "cell_type": "code",
   "metadata": {},
   "source": [
    "metrics_names = ['MF_MAE', 'MF_RMSE', 'MF_Pr', 'BPR_MAE', 'BPR_RMSE', 'BPR_Pr', 'MEAN_MAE', 'MEAN_RMSE', 'MEAN_Pr', 'SVD_MAE', 'SVD_RMSE', 'SVD_Pr', 'KNN_MAE', 'KNN_RMSE', 'KNN_Pr']\n",
    "values = [mf_mae, mf_rmse, mf_precision, bpr_mae, bpr_rmse, bpr_precision, mean_mae, mean_rmse, mean_precision, svd_mae, svd_rmse, svd_precision, knn_mae, knn_rmse, knn_precision] \n",
    "\n",
    "plt.figure(figsize=(18, 6))\n",
    "plt.bar(metrics_names, values, color=['blue', 'purple', 'red', 'blue', 'purple', 'red', 'blue', 'purple', 'red', 'blue', 'purple', 'red', 'blue', 'purple', 'red'])\n",
    "plt.xlabel('Métricas')\n",
    "plt.ylabel('Valores')\n",
    "plt.title('Resultados de las Métricas del Sistema de Recomendación')\n",
    "plt.show()\n"
   ],
   "outputs": [],
   "execution_count": null
  }
 ],
 "metadata": {
  "kernelspec": {
   "display_name": "Python 3",
   "language": "python",
   "name": "python3"
  },
  "language_info": {
   "codemirror_mode": {
    "name": "ipython",
    "version": 3
   },
   "file_extension": ".py",
   "mimetype": "text/x-python",
   "name": "python",
   "nbconvert_exporter": "python",
   "pygments_lexer": "ipython3",
   "version": "3.12.3"
  }
 },
 "nbformat": 4,
 "nbformat_minor": 2
}
