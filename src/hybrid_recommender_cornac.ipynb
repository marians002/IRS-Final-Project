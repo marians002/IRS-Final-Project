{
 "cells": [
  {
   "cell_type": "markdown",
   "metadata": {},
   "source": [
    "Importamos las librerías necesarias"
   ]
  },
  {
   "cell_type": "code",
   "execution_count": 227,
   "metadata": {},
   "outputs": [],
   "source": [
    "import matplotlib.pyplot as plt\n",
    "import cornac\n",
    "import pandas as pd\n",
    "from cornac.eval_methods import RatioSplit\n",
    "from cornac.metrics import Recall, Precision, MAE, RMSE\n",
    "from cornac.models import ItemKNN, BPR, MF\n",
    "from sklearn.metrics.pairwise import cosine_similarity\n",
    "import seaborn"
   ]
  },
  {
   "cell_type": "markdown",
   "metadata": {},
   "source": [
    "Cargar el dataset de MovieLens 100K"
   ]
  },
  {
   "cell_type": "code",
   "execution_count": 228,
   "metadata": {},
   "outputs": [
    {
     "name": "stdout",
     "output_type": "stream",
     "text": [
      "Dimensions of our genres cosine similarity matrix: (1682, 1682)\n"
     ]
    }
   ],
   "source": [
    "file_path = 'datasets/ml-100k/u.data'\n",
    "dataframe = pd.read_csv(file_path, sep='|', header=None, encoding='latin-1')\n",
    "dataset = cornac.datasets.movielens.load_feedback(fmt='UIRT')\n",
    "\n",
    "file_path = 'datasets/ml-100k/u.item'\n",
    "movies = pd.read_csv(file_path, sep='|', header=None, encoding='latin-1')\n",
    "\n",
    "movies.columns = ['movie_id', 'title', 'release_date', 'video_release_date', 'IMDb_URL', 'unknown', 'Action', 'Adventure', 'Animation', 'Children', 'Comedy', 'Crime', 'Documentary', 'Drama', 'Fantasy', 'Film-Noir', 'Horror', 'Musical', 'Mystery', 'Romance', 'Sci-Fi', 'Thriller', 'War', 'Western']\n",
    "\n",
    "genre_columns = ['unknown', 'Action', 'Adventure', 'Animation', 'Children', 'Comedy', 'Crime', 'Documentary', 'Drama', 'Fantasy', 'Film-Noir', 'Horror', 'Musical', 'Mystery', 'Romance', 'Sci-Fi', 'Thriller', 'War', 'Western']\n",
    "\n",
    "movie_genres = movies[genre_columns]\n",
    "movie_similarities = cosine_similarity(movie_genres, movie_genres)\n",
    "print(f\"Dimensions of our genres cosine similarity matrix: {movie_similarities.shape}\")"
   ]
  },
  {
   "cell_type": "markdown",
   "metadata": {},
   "source": [
    "Exploración de datos"
   ]
  },
  {
   "cell_type": "code",
   "execution_count": 229,
   "metadata": {},
   "outputs": [
    {
     "name": "stdout",
     "output_type": "stream",
     "text": [
      "     data     info\n",
      "0     943    users\n",
      "1    1682    items\n",
      "2  100000  ratings\n"
     ]
    }
   ],
   "source": [
    "file_path = 'datasets/ml-100k/u.info'\n",
    "info = pd.read_csv(file_path, sep=' ', header=None, encoding='latin-1')\n",
    "info.columns = ['data', 'info']\n",
    "print(info)"
   ]
  },
  {
   "cell_type": "code",
   "execution_count": 230,
   "metadata": {},
   "outputs": [
    {
     "name": "stdout",
     "output_type": "stream",
     "text": [
      "Matrix sparsity: 6.3%\n"
     ]
    }
   ],
   "source": [
    "sparsity = info['data'][2]/(info['data'][0]*info['data'][1])\n",
    "print(f\"Matrix sparsity: {round(sparsity*100,2)}%\")"
   ]
  },
  {
   "cell_type": "code",
   "execution_count": 231,
   "metadata": {},
   "outputs": [],
   "source": [
    "# Diccionario con las similitudes entre peliculas ordenadas ascendentemente\n",
    "sim_movies = {}\n",
    "for idx in range(len(movie_similarities)):\n",
    "    sim_scores = list(enumerate(movie_similarities[idx]))\n",
    "    sim_scores = sorted(sim_scores, key=lambda x: x[1])\n",
    "    sim_movies[idx] = sim_scores"
   ]
  },
  {
   "cell_type": "markdown",
   "metadata": {},
   "source": [
    "Crear modelos propios"
   ]
  },
  {
   "cell_type": "code",
   "execution_count": 232,
   "metadata": {},
   "outputs": [],
   "source": [
    "class Hybrid(cornac.models.Recommender):\n",
    "    def __init__(self, models, weights, name=\"Hybrid\"):\n",
    "        super().__init__(name=name)\n",
    "        self.models = models\n",
    "        self.weights = weights\n",
    "\n",
    "    def fit(self, train_set, eval_set):\n",
    "        super().fit(train_set,eval_set)\n",
    "        for m in self.models:\n",
    "            m.fit(train_set, eval_set)\n",
    "\n",
    "    def score(self, user_idx, item_idx=None):\n",
    "        ponderated_sum = 0\n",
    "        # if each weight is 1/len(weights)then the score is the average  \n",
    "        for idx in range(len(self.models)):\n",
    "            ponderated_sum += self.models[idx].score(user_idx, item_idx)*self.weights[idx]\n",
    "\n",
    "        return ponderated_sum/sum(self.weights)\n",
    "\n",
    "class DHybrid(Hybrid):\n",
    "    def __init__(self, models, weights, name=\"Hybrid\", flag=False):\n",
    "        super().__init__(models, weights, name)\n",
    "        self.flag = flag\n",
    "        \n",
    "    def fit(self, train_set, eval_set=None):\n",
    "        super().fit(train_set, eval_set)\n",
    "        \n",
    "    def score(self, user_idx, item_idx=None):\n",
    "        return super().score(user_idx, item_idx)\n",
    "    \n",
    "    def recommend(self, user_id, k=-1, remove_seen=False, train_set=None, n=3):\n",
    "        recommendations = super().recommend(user_id, k, remove_seen, train_set)\n",
    "        if self.flag:\n",
    "            sim_scores = sim_movies[int(recommendations[0])]\n",
    "            similar_movies = [i[0] for i in sim_scores[:n]]\n",
    "            recommendations = recommendations + similar_movies\n",
    "        return recommendations\n",
    "    "
   ]
  },
  {
   "cell_type": "markdown",
   "metadata": {},
   "source": [
    "Definir el método de evaluación"
   ]
  },
  {
   "cell_type": "code",
   "execution_count": 233,
   "metadata": {},
   "outputs": [
    {
     "name": "stdout",
     "output_type": "stream",
     "text": [
      "rating_threshold = 4.0\n",
      "exclude_unknowns = True\n",
      "---\n",
      "Training data:\n",
      "Number of users = 943\n",
      "Number of items = 1644\n",
      "Number of ratings = 80000\n",
      "Max rating = 5.0\n",
      "Min rating = 1.0\n",
      "Global mean = 3.5\n",
      "---\n",
      "Test data:\n",
      "Number of users = 943\n",
      "Number of items = 1644\n",
      "Number of ratings = 19952\n",
      "Number of unknown users = 0\n",
      "Number of unknown items = 0\n",
      "---\n",
      "Total users = 943\n",
      "Total items = 1644\n"
     ]
    }
   ],
   "source": [
    "ratio_split = RatioSplit(data=dataset, test_size=0.2, rating_threshold=4.0, exclude_unknowns=True, verbose=True)"
   ]
  },
  {
   "cell_type": "markdown",
   "metadata": {},
   "source": [
    "Definir los modelos a emplear"
   ]
  },
  {
   "cell_type": "code",
   "execution_count": 234,
   "metadata": {},
   "outputs": [],
   "source": [
    "\n",
    "mf = MF(k=10, max_iter=25, learning_rate=0.01, lambda_reg=0.02)\n",
    "svd = cornac.models.SVD()\n",
    "knn = ItemKNN(k=20, similarity='cosine', name='ItemKNN')\n",
    "bpr = cornac.models.BPR(k=10, max_iter=25, learning_rate=0.01, lambda_reg=0.02)\n",
    "hybrid = DHybrid([svd, bpr, knn], (10,3,1), flag=True)\n",
    "\n",
    "models = [mf, bpr, svd, knn, hybrid]"
   ]
  },
  {
   "cell_type": "markdown",
   "metadata": {},
   "source": [
    "Definir las metricas a utilizar"
   ]
  },
  {
   "cell_type": "code",
   "execution_count": 235,
   "metadata": {},
   "outputs": [],
   "source": [
    "metrics = []\n",
    "metrics.append(MAE())\n",
    "metrics.append(RMSE())\n",
    "metrics.append(Recall(10))\n",
    "metrics.append(Precision(10))"
   ]
  },
  {
   "cell_type": "markdown",
   "metadata": {},
   "source": [
    "Definir el experimento\n"
   ]
  },
  {
   "cell_type": "code",
   "execution_count": 236,
   "metadata": {},
   "outputs": [],
   "source": [
    "experiment = cornac.Experiment(eval_method=ratio_split, models=models, metrics=metrics)"
   ]
  },
  {
   "cell_type": "markdown",
   "metadata": {},
   "source": [
    "Ejecutar el experimento"
   ]
  },
  {
   "cell_type": "code",
   "execution_count": 237,
   "metadata": {},
   "outputs": [
    {
     "name": "stdout",
     "output_type": "stream",
     "text": [
      "\n",
      "[MF] Training started!\n",
      "\n",
      "[MF] Evaluation started!\n"
     ]
    },
    {
     "data": {
      "application/vnd.jupyter.widget-view+json": {
       "model_id": "3279ad91fa75451685f3d6cd9cbbffd4",
       "version_major": 2,
       "version_minor": 0
      },
      "text/plain": [
       "Rating:   0%|          | 0/19952 [00:00<?, ?it/s]"
      ]
     },
     "metadata": {},
     "output_type": "display_data"
    },
    {
     "data": {
      "application/vnd.jupyter.widget-view+json": {
       "model_id": "ff9c423ba27345fb81d9954159797586",
       "version_major": 2,
       "version_minor": 0
      },
      "text/plain": [
       "Ranking:   0%|          | 0/942 [00:00<?, ?it/s]"
      ]
     },
     "metadata": {},
     "output_type": "display_data"
    },
    {
     "name": "stdout",
     "output_type": "stream",
     "text": [
      "\n",
      "[BPR] Training started!\n",
      "\n",
      "[BPR] Evaluation started!\n"
     ]
    },
    {
     "data": {
      "application/vnd.jupyter.widget-view+json": {
       "model_id": "a81d0c101bd94b8b8e2c9dd2515b99ba",
       "version_major": 2,
       "version_minor": 0
      },
      "text/plain": [
       "Rating:   0%|          | 0/19952 [00:00<?, ?it/s]"
      ]
     },
     "metadata": {},
     "output_type": "display_data"
    },
    {
     "data": {
      "application/vnd.jupyter.widget-view+json": {
       "model_id": "a596504e00d0434992e35c7215c356b3",
       "version_major": 2,
       "version_minor": 0
      },
      "text/plain": [
       "Ranking:   0%|          | 0/942 [00:00<?, ?it/s]"
      ]
     },
     "metadata": {},
     "output_type": "display_data"
    },
    {
     "name": "stdout",
     "output_type": "stream",
     "text": [
      "\n",
      "[SVD] Training started!\n",
      "\n",
      "[SVD] Evaluation started!\n"
     ]
    },
    {
     "data": {
      "application/vnd.jupyter.widget-view+json": {
       "model_id": "6059860932984eedbb3b531cf2f8055a",
       "version_major": 2,
       "version_minor": 0
      },
      "text/plain": [
       "Rating:   0%|          | 0/19952 [00:00<?, ?it/s]"
      ]
     },
     "metadata": {},
     "output_type": "display_data"
    },
    {
     "data": {
      "application/vnd.jupyter.widget-view+json": {
       "model_id": "bd94888cb0984b1eafcb53cfda9f28a6",
       "version_major": 2,
       "version_minor": 0
      },
      "text/plain": [
       "Ranking:   0%|          | 0/942 [00:00<?, ?it/s]"
      ]
     },
     "metadata": {},
     "output_type": "display_data"
    },
    {
     "name": "stdout",
     "output_type": "stream",
     "text": [
      "\n",
      "[ItemKNN] Training started!\n"
     ]
    },
    {
     "data": {
      "application/vnd.jupyter.widget-view+json": {
       "model_id": "3772dc01475840398eb2f1c49dabbf1f",
       "version_major": 2,
       "version_minor": 0
      },
      "text/plain": [
       "  0%|          | 0/1644 [00:00<?, ?it/s]"
      ]
     },
     "metadata": {},
     "output_type": "display_data"
    },
    {
     "name": "stdout",
     "output_type": "stream",
     "text": [
      "\n",
      "[ItemKNN] Evaluation started!\n"
     ]
    },
    {
     "data": {
      "application/vnd.jupyter.widget-view+json": {
       "model_id": "44effe5a68a34fba871656601f5e33ba",
       "version_major": 2,
       "version_minor": 0
      },
      "text/plain": [
       "Rating:   0%|          | 0/19952 [00:00<?, ?it/s]"
      ]
     },
     "metadata": {},
     "output_type": "display_data"
    },
    {
     "data": {
      "application/vnd.jupyter.widget-view+json": {
       "model_id": "6133d9a651e04406951e7ebde68251e5",
       "version_major": 2,
       "version_minor": 0
      },
      "text/plain": [
       "Ranking:   0%|          | 0/942 [00:00<?, ?it/s]"
      ]
     },
     "metadata": {},
     "output_type": "display_data"
    },
    {
     "name": "stdout",
     "output_type": "stream",
     "text": [
      "\n",
      "[Hybrid] Training started!\n"
     ]
    },
    {
     "data": {
      "application/vnd.jupyter.widget-view+json": {
       "model_id": "8ec2e5e5f84a45cbb6849ba3e6ad11cb",
       "version_major": 2,
       "version_minor": 0
      },
      "text/plain": [
       "  0%|          | 0/1644 [00:00<?, ?it/s]"
      ]
     },
     "metadata": {},
     "output_type": "display_data"
    },
    {
     "name": "stdout",
     "output_type": "stream",
     "text": [
      "\n",
      "[Hybrid] Evaluation started!\n"
     ]
    },
    {
     "data": {
      "application/vnd.jupyter.widget-view+json": {
       "model_id": "b075ec29a3e5424ab59f05f63d5453db",
       "version_major": 2,
       "version_minor": 0
      },
      "text/plain": [
       "Rating:   0%|          | 0/19952 [00:00<?, ?it/s]"
      ]
     },
     "metadata": {},
     "output_type": "display_data"
    },
    {
     "data": {
      "application/vnd.jupyter.widget-view+json": {
       "model_id": "a209589ddbdb4afbacdfddff56b041cc",
       "version_major": 2,
       "version_minor": 0
      },
      "text/plain": [
       "Ranking:   0%|          | 0/942 [00:00<?, ?it/s]"
      ]
     },
     "metadata": {},
     "output_type": "display_data"
    },
    {
     "name": "stdout",
     "output_type": "stream",
     "text": [
      "\n",
      "TEST:\n",
      "...\n",
      "        |    MAE |   RMSE | Precision@10 | Recall@10 | Train (s) | Test (s)\n",
      "------- + ------ + ------ + ------------ + --------- + --------- + --------\n",
      "MF      | 0.7456 | 0.9038 |       0.0723 |    0.0521 |    0.0999 |   0.9625\n",
      "BPR     | 2.1731 | 2.3719 |       0.1057 |    0.1090 |    0.0804 |   0.9389\n",
      "SVD     | 0.7559 | 0.9140 |       0.0567 |    0.0425 |    0.0431 |   1.0208\n",
      "ItemKNN | 0.8166 | 0.9869 |       0.0266 |    0.0149 |    0.1147 |   7.1730\n",
      "Hybrid  | 0.8819 | 1.0398 |       0.1344 |    0.1093 |    0.3989 |   6.5068\n",
      "\n"
     ]
    }
   ],
   "source": [
    "experiment.run()"
   ]
  },
  {
   "cell_type": "markdown",
   "metadata": {},
   "source": [
    "Extraer los resultados de las métricas"
   ]
  },
  {
   "cell_type": "code",
   "execution_count": 238,
   "metadata": {},
   "outputs": [],
   "source": [
    "results = experiment.result\n",
    "mean_mae = results[0].metric_avg_results['MAE']\n",
    "mean_rmse = results[0].metric_avg_results['RMSE']\n",
    "mean_precision = results[0].metric_avg_results['Precision@10']\n",
    "mf_mae = results[1].metric_avg_results['MAE']\n",
    "mf_rmse = results[1].metric_avg_results['RMSE']\n",
    "mf_precision = results[1].metric_avg_results['Precision@10']\n",
    "bpr_mae = results[2].metric_avg_results['MAE']\n",
    "bpr_rmse = results[2].metric_avg_results['RMSE']\n",
    "bpr_precision = results[2].metric_avg_results['Precision@10']\n",
    "svd_mae = results[3].metric_avg_results['MAE']\n",
    "svd_rmse = results[3].metric_avg_results['RMSE']\n",
    "svd_precision = results[3].metric_avg_results['Precision@10']\n",
    "knn_mae = results[4].metric_avg_results['MAE']\n",
    "knn_rmse = results[4].metric_avg_results['RMSE']\n",
    "knn_precision = results[4].metric_avg_results['Precision@10']"
   ]
  },
  {
   "cell_type": "markdown",
   "metadata": {},
   "source": [
    "Crear un gráfico de barras para mostrar los resultados"
   ]
  },
  {
   "cell_type": "code",
   "execution_count": 239,
   "metadata": {},
   "outputs": [
    {
     "data": {
      "image/png": "[encoded data removed]",
      "text/plain": [
       "<Figure size 1800x600 with 1 Axes>"
      ]
     },
     "metadata": {},
     "output_type": "display_data"
    }
   ],
   "source": [
    "metrics_names = ['MF_MAE', 'MF_RMSE', 'MF_Pr', 'BPR_MAE', 'BPR_RMSE', 'BPR_Pr', 'MEAN_MAE', 'MEAN_RMSE', 'MEAN_Pr', 'SVD_MAE', 'SVD_RMSE', 'SVD_Pr', 'KNN_MAE', 'KNN_RMSE', 'KNN_Pr']\n",
    "values = [mf_mae, mf_rmse, mf_precision, bpr_mae, bpr_rmse, bpr_precision, mean_mae, mean_rmse, mean_precision, svd_mae, svd_rmse, svd_precision, knn_mae, knn_rmse, knn_precision] \n",
    "\n",
    "plt.figure(figsize=(18, 6))\n",
    "plt.bar(metrics_names, values, color=['blue', 'purple', 'red', 'blue', 'purple', 'red', 'blue', 'purple', 'red', 'blue', 'purple', 'red', 'blue', 'purple', 'red'])\n",
    "plt.xlabel('Métricas')\n",
    "plt.ylabel('Valores')\n",
    "plt.title('Resultados de las Métricas del Sistema de Recomendación')\n",
    "plt.show()\n"
   ]
  },
  {
   "cell_type": "markdown",
   "metadata": {},
   "source": [
    "### Diversity Metrics ###"
   ]
  },
  {
   "cell_type": "code",
   "execution_count": 240,
   "metadata": {},
   "outputs": [],
   "source": [
    "def intra_list_diversity(recommendation_list, similarity_matrix):\n",
    "    \"\"\"\n",
    "    Calculate the intra-list diversity of a recommendation list.\n",
    "    \n",
    "    Parameters:\n",
    "    recommendation_list (list): List of recommended item indices.\n",
    "    similarity_matrix (numpy.ndarray): Precomputed similarity matrix where element (i, j) represents the similarity between item i and item j.\n",
    "    \n",
    "    Returns:\n",
    "    float: Intra-list diversity score.\n",
    "    \"\"\"\n",
    "    n = len(recommendation_list)\n",
    "    if n <= 1:\n",
    "        return 0.0\n",
    "    \n",
    "    total_dissimilarity = 0.0\n",
    "    count = 0\n",
    "    \n",
    "    for i in range(n):\n",
    "        for j in range(i + 1, n):\n",
    "            total_dissimilarity += 1 - similarity_matrix[recommendation_list[i]-1][recommendation_list[j]-1]\n",
    "            count += 1\n",
    "    \n",
    "    return total_dissimilarity / count"
   ]
  },
  {
   "cell_type": "code",
   "execution_count": 241,
   "metadata": {},
   "outputs": [
    {
     "name": "stdout",
     "output_type": "stream",
     "text": [
      "Intra-list diversity score average of model MF: 0.7289722224638678\n",
      "Intra-list diversity score average of model BPR: 0.7128992573789954\n",
      "Intra-list diversity score average of model SVD: 0.7069958236822249\n",
      "Intra-list diversity score average of model ItemKNN: 0.7215197391997275\n",
      "Intra-list diversity score average of model Hybrid: 0.6875849112226295\n"
     ]
    }
   ],
   "source": [
    "\n",
    "for model in models:\n",
    "    t_diversity_score = 0\n",
    "    for user_id in range(1, model.total_users):\n",
    "        recs = [int(i) for i in model.recommend(user_id=str(user_id), k=20)]\n",
    "        t_diversity_score += intra_list_diversity(recs, movie_similarities)\n",
    "        \n",
    "    avg = t_diversity_score/info['data'][0]\n",
    "    print(f\"Intra-list diversity score average of model {model.name}: {avg}\")"
   ]
  }
 ],
 "metadata": {
  "kernelspec": {
   "display_name": "Python 3",
   "language": "python",
   "name": "python3"
  },
  "language_info": {
   "codemirror_mode": {
    "name": "ipython",
    "version": 3
   },
   "file_extension": ".py",
   "mimetype": "text/x-python",
   "name": "python",
   "nbconvert_exporter": "python",
   "pygments_lexer": "ipython3",
   "version": "3.11.6"
  }
 },
 "nbformat": 4,
 "nbformat_minor": 2
}
